{
 "cells": [
  {
   "cell_type": "code",
   "execution_count": 2,
   "metadata": {},
   "outputs": [],
   "source": [
    "import requests\n",
    "import spotipy\n",
    "from spotipy.oauth2 import SpotifyClientCredentials\n",
    "import pandas as pd\n",
    "import config"
   ]
  },
  {
   "cell_type": "code",
   "execution_count": 2,
   "metadata": {},
   "outputs": [],
   "source": [
    "client_credentials_manager = SpotifyClientCredentials(\n",
    "    client_id=config.client_id,\n",
    "    client_secret=config.client_secret\n",
    ")\n",
    "\n",
    "sp = spotipy.Spotify(\n",
    "    client_credentials_manager=client_credentials_manager\n",
    ")"
   ]
  },
  {
   "cell_type": "code",
   "execution_count": 44,
   "metadata": {},
   "outputs": [],
   "source": [
    "me = sp.user(\"124718095\")"
   ]
  },
  {
   "cell_type": "code",
   "execution_count": 46,
   "metadata": {},
   "outputs": [],
   "source": [
    "my_playlists = sp.user_playlists(me['id'])"
   ]
  },
  {
   "cell_type": "code",
   "execution_count": 56,
   "metadata": {},
   "outputs": [],
   "source": [
    "my_playlist_ids = {x['name']:x['id'] for x in my_playlists['items']}"
   ]
  },
  {
   "cell_type": "code",
   "execution_count": 59,
   "metadata": {},
   "outputs": [
    {
     "data": {
      "text/plain": [
       "'37i9dQZF1Ethx9AjQdjLEb'"
      ]
     },
     "execution_count": 59,
     "metadata": {},
     "output_type": "execute_result"
    }
   ],
   "source": [
    "my_playlist_ids['Your Top Songs 2019']"
   ]
  },
  {
   "cell_type": "code",
   "execution_count": 60,
   "metadata": {},
   "outputs": [],
   "source": [
    "top_songs_2019 = sp.playlist_tracks(my_playlist_ids['Your Top Songs 2019'])"
   ]
  },
  {
   "cell_type": "code",
   "execution_count": 77,
   "metadata": {},
   "outputs": [],
   "source": [
    "top_songs_2019_ids = {x['track']['name']:x['track']['id'] for x in top_songs_2019['items']}"
   ]
  },
  {
   "cell_type": "markdown",
   "metadata": {},
   "source": [
    "## track features "
   ]
  },
  {
   "cell_type": "code",
   "execution_count": 14,
   "metadata": {
    "collapsed": true,
    "jupyter": {
     "outputs_hidden": true
    }
   },
   "outputs": [
    {
     "data": {
      "text/plain": [
       "[{'external_urls': {'spotify': 'https://open.spotify.com/artist/0xPoVNPnxIIUS1vrxAYV00'},\n",
       "  'followers': {'href': None, 'total': 19109},\n",
       "  'genres': ['deep new americana'],\n",
       "  'href': 'https://api.spotify.com/v1/artists/0xPoVNPnxIIUS1vrxAYV00',\n",
       "  'id': '0xPoVNPnxIIUS1vrxAYV00',\n",
       "  'images': [{'height': 640,\n",
       "    'url': 'https://i.scdn.co/image/e628ab91e4ffacc38932adef0b72c1b8c6eae66a',\n",
       "    'width': 640},\n",
       "   {'height': 320,\n",
       "    'url': 'https://i.scdn.co/image/3dcac05d36e7f2290d912e3bbaf2760b47bc985e',\n",
       "    'width': 320},\n",
       "   {'height': 160,\n",
       "    'url': 'https://i.scdn.co/image/2be8f2fe4c36b9f5aac339e4ed6b9a91b49cf255',\n",
       "    'width': 160}],\n",
       "  'name': 'Del Water Gap',\n",
       "  'popularity': 50,\n",
       "  'type': 'artist',\n",
       "  'uri': 'spotify:artist:0xPoVNPnxIIUS1vrxAYV00'}]"
      ]
     },
     "execution_count": 14,
     "metadata": {},
     "output_type": "execute_result"
    }
   ],
   "source": [
    "q = sp.search(q='Del Water Gap',type='artist')['artists']['items']\n",
    "q"
   ]
  },
  {
   "cell_type": "code",
   "execution_count": 19,
   "metadata": {},
   "outputs": [],
   "source": [
    "dwg_id = q[0]['id']"
   ]
  },
  {
   "cell_type": "code",
   "execution_count": 97,
   "metadata": {},
   "outputs": [],
   "source": [
    "def get_artistTracks(artist_name=None,artist_id=None):\n",
    "    if artist_name:\n",
    "        artist = sp.search(q=artist_name,type='artist')['artists']['items'][0]\n",
    "        artist_id = artist['id']\n",
    "    albums = sp.artist_albums(artist['id'])['items']\n",
    "    \n",
    "    album_ids = [ \n",
    "        {'id':x['id'],'album_name':x['name']} for x in albums \n",
    "    ]\n",
    "    \n",
    "    album_tracks = [ sp.album_tracks(x['id']) for x in album_ids ]\n",
    "    \n",
    "    # item for sublist in list for item in sublist \n",
    "    tracks = [ \n",
    "        {\n",
    "            'name':item['name'],\n",
    "            'id':item['id'],\n",
    "            'artists':[x['name'] for x in item['artists']]\n",
    "        }\n",
    "        for album in album_tracks \n",
    "        for item in album['items']\n",
    "        if artist['name'] in [ x['name'] for x in item['artists'] ]\n",
    "    ]\n",
    "    \n",
    "    return tracks"
   ]
  },
  {
   "cell_type": "code",
   "execution_count": 99,
   "metadata": {},
   "outputs": [],
   "source": [
    "del_water_tracks = get_artistTracks(artist_name='Del Water Gap')"
   ]
  },
  {
   "cell_type": "code",
   "execution_count": 101,
   "metadata": {},
   "outputs": [
    {
     "data": {
      "text/plain": [
       "[{'name': \"Don't Say Nothing - live in Fresno\",\n",
       "  'id': '4iCAH9P6e4ilKhc60qcRJv',\n",
       "  'artists': ['Del Water Gap']},\n",
       " {'name': 'Theory of Emotion - live in Fresno',\n",
       "  'id': '1jdcKxb3I3rzQUYZyekCgr',\n",
       "  'artists': ['Del Water Gap']},\n",
       " {'name': 'Chastain - live in Fresno',\n",
       "  'id': '519l7sJ9H0vshmI2X4rgQL',\n",
       "  'artists': ['Del Water Gap']},\n",
       " {'name': 'To Philly - live in Fresno',\n",
       "  'id': '3IAcmRXOPwmDLht8UDDrYp',\n",
       "  'artists': ['Del Water Gap']},\n",
       " {'name': 'Laid Down My Arms - live in Fresno',\n",
       "  'id': '5sYmFFLcruE6zBaO55Cl7d',\n",
       "  'artists': ['Del Water Gap']}]"
      ]
     },
     "execution_count": 101,
     "metadata": {},
     "output_type": "execute_result"
    }
   ],
   "source": [
    "del_water_tracks[:5]"
   ]
  },
  {
   "cell_type": "code",
   "execution_count": 105,
   "metadata": {},
   "outputs": [],
   "source": [
    "records = []\n",
    "for track in del_water_tracks:\n",
    "    audio_features = sp.audio_features(track['id'])[0]\n",
    "    audio_features['artists'] = track['artists']\n",
    "    audio_features['name'] = track['name']\n",
    "    records.append(audio_features)"
   ]
  },
  {
   "cell_type": "code",
   "execution_count": 107,
   "metadata": {},
   "outputs": [],
   "source": [
    "df = pd.DataFrame.from_records(records)"
   ]
  },
  {
   "cell_type": "code",
   "execution_count": 119,
   "metadata": {},
   "outputs": [],
   "source": [
    "df.drop(columns=['track_href','analysis_url','type','uri'],inplace=True)"
   ]
  },
  {
   "cell_type": "code",
   "execution_count": 115,
   "metadata": {},
   "outputs": [],
   "source": [
    "df['artists'] = df.apply(lambda x : \"\".join([artist+', ' for artist in x['artists']]).strip(', '),axis=1)"
   ]
  },
  {
   "cell_type": "code",
   "execution_count": 109,
   "metadata": {},
   "outputs": [],
   "source": [
    "trs = sp.tracks(df['id'].to_list())"
   ]
  },
  {
   "cell_type": "code",
   "execution_count": 110,
   "metadata": {},
   "outputs": [],
   "source": [
    "#df['popularity'] = df['id'].map({x['id']:x['popularity'] for x in trs['tracks']})"
   ]
  },
  {
   "cell_type": "code",
   "execution_count": 111,
   "metadata": {},
   "outputs": [],
   "source": [
    "df['release_date'] = df['id'].map({x['id']:x['album']['release_date'] for x in trs['tracks']})"
   ]
  },
  {
   "cell_type": "code",
   "execution_count": 116,
   "metadata": {},
   "outputs": [],
   "source": [
    "df.sort_values(by='release_date',axis=0,inplace=True)"
   ]
  },
  {
   "cell_type": "code",
   "execution_count": 124,
   "metadata": {},
   "outputs": [],
   "source": [
    "df.drop_duplicates([x for x in df.columns if x not in ['release_date','name','id']],keep='first',inplace=True)"
   ]
  },
  {
   "cell_type": "code",
   "execution_count": 140,
   "metadata": {},
   "outputs": [],
   "source": [
    "#df.drop(index=19,inplace=True)\n",
    "df.reset_index(inplace=True,drop=True)"
   ]
  },
  {
   "cell_type": "code",
   "execution_count": 142,
   "metadata": {},
   "outputs": [
    {
     "data": {
      "text/plain": [
       "0                              In the Yard\n",
       "1                  Be My Own (Bonus Track)\n",
       "2            I Am Drunk, And She Is Insane\n",
       "3                                 Homeless\n",
       "4              Lost My Cat / Put in a Cage\n",
       "5                           Rockman's Pier\n",
       "6                            Still in Love\n",
       "7                                Lamplight\n",
       "8                             Cut the Rope\n",
       "9                                  Vanessa\n",
       "10                               High Tops\n",
       "11                Love Song for Lady Earth\n",
       "12                           Let's Pretend\n",
       "13                          Deirdre, Pt. I\n",
       "14                   Don't Read the Mirror\n",
       "15                    High Tops (Stripped)\n",
       "16                       Laid Down My Arms\n",
       "17                                Chastain\n",
       "18                       Theory of Emotion\n",
       "19                            Don't Let Me\n",
       "20                       Don't Say Nothing\n",
       "21                               To Philly\n",
       "22                       Laid Down My Arms\n",
       "23                            Don't Let Me\n",
       "24                       Don't Say Nothing\n",
       "25                                Chastain\n",
       "26                               To Philly\n",
       "27         In the Yard - Mahogany Sessions\n",
       "28              To Philly - live in Fresno\n",
       "29      Don't Say Nothing - live in Fresno\n",
       "30    Never Meant to Call - live in Fresno\n",
       "31           Don't Let Me - live in Fresno\n",
       "32      Laid Down My Arms - live in Fresno\n",
       "33               Chastain - live in Fresno\n",
       "34      Theory of Emotion - live in Fresno\n",
       "35                                 My Body\n",
       "Name: name, dtype: object"
      ]
     },
     "execution_count": 142,
     "metadata": {},
     "output_type": "execute_result"
    }
   ],
   "source": [
    "df['name']"
   ]
  },
  {
   "cell_type": "code",
   "execution_count": 146,
   "metadata": {},
   "outputs": [],
   "source": [
    "with_charlie = [\n",
    "    'I Am Drunk, And She Is Insane', 'Lost My Cat / Put in a Cage', \n",
    "    \"Rockman's Pier\", 'Still in Love', 'Lamplight', 'Cut the Rope', \n",
    "    'Vanessa', 'High Tops', 'Love Song for Lady Earth', \"Let's Pretend\",\n",
    "    'Deirdre, Pt. I', \"Don't Read the Mirror\", 'Laid Down My Arms','Theory of Emotion'\n",
    "]"
   ]
  },
  {
   "cell_type": "code",
   "execution_count": 160,
   "metadata": {},
   "outputs": [],
   "source": [
    "not_charlie = df[~df['name'].isin(with_charlie)]['valence']"
   ]
  },
  {
   "cell_type": "code",
   "execution_count": 161,
   "metadata": {},
   "outputs": [],
   "source": [
    "charlie = df[df['name'].isin(with_charlie)]['valence']"
   ]
  },
  {
   "cell_type": "code",
   "execution_count": 162,
   "metadata": {},
   "outputs": [],
   "source": [
    "import matplotlib.pyplot as plt\n",
    "%matplotlib inline"
   ]
  },
  {
   "cell_type": "code",
   "execution_count": 165,
   "metadata": {},
   "outputs": [
    {
     "data": {
      "image/png": "[encoded data removed]",
      "text/plain": [
       "<Figure size 432x288 with 1 Axes>"
      ]
     },
     "metadata": {
      "needs_background": "light"
     },
     "output_type": "display_data"
    }
   ],
   "source": [
    "fig, ax = plt.subplots()\n",
    "ax.boxplot([charlie,not_charlie])\n",
    "\n",
    "plt.show()"
   ]
  },
  {
   "cell_type": "code",
   "execution_count": 157,
   "metadata": {},
   "outputs": [
    {
     "data": {
      "text/plain": [
       "{'whiskers': [<matplotlib.lines.Line2D at 0x12132a3c8>,\n",
       "  <matplotlib.lines.Line2D at 0x1214dcf98>],\n",
       " 'caps': [<matplotlib.lines.Line2D at 0x1214e3f98>,\n",
       "  <matplotlib.lines.Line2D at 0x1214edba8>],\n",
       " 'boxes': [<matplotlib.lines.Line2D at 0x1214dc2e8>],\n",
       " 'medians': [<matplotlib.lines.Line2D at 0x1214edc18>],\n",
       " 'fliers': [<matplotlib.lines.Line2D at 0x1214f4710>],\n",
       " 'means': []}"
      ]
     },
     "execution_count": 157,
     "metadata": {},
     "output_type": "execute_result"
    }
   ],
   "source": [
    "ax.boxplot(x)"
   ]
  },
  {
   "cell_type": "code",
   "execution_count": null,
   "metadata": {},
   "outputs": [],
   "source": []
  },
  {
   "cell_type": "markdown",
   "metadata": {},
   "source": [
    "## by playlist"
   ]
  },
  {
   "cell_type": "code",
   "execution_count": 324,
   "metadata": {},
   "outputs": [],
   "source": [
    "sam_playlists = sp.user_playlists(1250134147)"
   ]
  },
  {
   "cell_type": "code",
   "execution_count": 340,
   "metadata": {},
   "outputs": [],
   "source": [
    "sam_playlist_ids = [\n",
    "    {'playlist_id':x['id'],'playlist_name':x['name']} for x in sam_playlists['items']]"
   ]
  },
  {
   "cell_type": "code",
   "execution_count": 341,
   "metadata": {},
   "outputs": [
    {
     "data": {
      "text/plain": [
       "[{'playlist_id': '0ti4xxabrASrUfndyMAM84', 'playlist_name': 'the end'},\n",
       " {'playlist_id': '4onXnKlx8zqSBFMoegjnTX',\n",
       "  'playlist_name': 'wfh: pandemic edition'},\n",
       " {'playlist_id': '5pSaH0lwwMZQv4icmvLODy', 'playlist_name': 'working'},\n",
       " {'playlist_id': '5x3kN5QBau7m55CDq31jxY', 'playlist_name': 'hbd, dave'},\n",
       " {'playlist_id': '4yhHSqzDCxttvBEfMBOODi',\n",
       "  'playlist_name': 'unpretentious resort wave'},\n",
       " {'playlist_id': '6jmzGHmwwueGgqw376qJku',\n",
       "  'playlist_name': 'all killer no filler'},\n",
       " {'playlist_id': '2VBPgWKiFM2N5lXEFYp7sk',\n",
       "  'playlist_name': 'The Wry Young Women Writing Sad, Buoyant, Beautiful Songs'}]"
      ]
     },
     "execution_count": 341,
     "metadata": {},
     "output_type": "execute_result"
    }
   ],
   "source": [
    "sam_playlist_ids"
   ]
  },
  {
   "cell_type": "code",
   "execution_count": 359,
   "metadata": {},
   "outputs": [],
   "source": [
    "import time"
   ]
  },
  {
   "cell_type": "code",
   "execution_count": 360,
   "metadata": {},
   "outputs": [],
   "source": [
    "records = []\n",
    "for playlist in sam_playlist_ids:\n",
    "    playlist_items = sp.playlist_tracks(playlist['playlist_id'])['items']\n",
    "    track_ids = [item['track']['id'] for item in playlist_items]\n",
    "    \n",
    "    audio_features = [sp.audio_features(x)[0] for x in track_ids]\n",
    "    for track in audio_features:\n",
    "        track['playlist_name']=playlist['playlist_name']\n",
    "    records.extend(audio_features)\n",
    "    time.sleep(5)"
   ]
  },
  {
   "cell_type": "code",
   "execution_count": 364,
   "metadata": {},
   "outputs": [],
   "source": [
    "playlist_df = pd.DataFrame.from_records(records)"
   ]
  },
  {
   "cell_type": "code",
   "execution_count": 366,
   "metadata": {},
   "outputs": [
    {
     "data": {
      "text/html": [
       "<div>\n",
       "<style scoped>\n",
       "    .dataframe tbody tr th:only-of-type {\n",
       "        vertical-align: middle;\n",
       "    }\n",
       "\n",
       "    .dataframe tbody tr th {\n",
       "        vertical-align: top;\n",
       "    }\n",
       "\n",
       "    .dataframe thead th {\n",
       "        text-align: right;\n",
       "    }\n",
       "</style>\n",
       "<table border=\"1\" class=\"dataframe\">\n",
       "  <thead>\n",
       "    <tr style=\"text-align: right;\">\n",
       "      <th></th>\n",
       "      <th>danceability</th>\n",
       "      <th>energy</th>\n",
       "      <th>key</th>\n",
       "      <th>loudness</th>\n",
       "      <th>mode</th>\n",
       "      <th>speechiness</th>\n",
       "      <th>acousticness</th>\n",
       "      <th>instrumentalness</th>\n",
       "      <th>liveness</th>\n",
       "      <th>valence</th>\n",
       "      <th>tempo</th>\n",
       "      <th>type</th>\n",
       "      <th>id</th>\n",
       "      <th>uri</th>\n",
       "      <th>track_href</th>\n",
       "      <th>analysis_url</th>\n",
       "      <th>duration_ms</th>\n",
       "      <th>time_signature</th>\n",
       "      <th>playlist_name</th>\n",
       "    </tr>\n",
       "  </thead>\n",
       "  <tbody>\n",
       "    <tr>\n",
       "      <td>0</td>\n",
       "      <td>0.459</td>\n",
       "      <td>0.617</td>\n",
       "      <td>8</td>\n",
       "      <td>-5.810</td>\n",
       "      <td>1</td>\n",
       "      <td>0.0353</td>\n",
       "      <td>0.000056</td>\n",
       "      <td>0.354000</td>\n",
       "      <td>0.0443</td>\n",
       "      <td>0.522</td>\n",
       "      <td>117.959</td>\n",
       "      <td>audio_features</td>\n",
       "      <td>1qoqz2LrkRl2A24OSdp6wI</td>\n",
       "      <td>spotify:track:1qoqz2LrkRl2A24OSdp6wI</td>\n",
       "      <td>https://api.spotify.com/v1/tracks/1qoqz2LrkRl2...</td>\n",
       "      <td>https://api.spotify.com/v1/audio-analysis/1qoq...</td>\n",
       "      <td>208967</td>\n",
       "      <td>4</td>\n",
       "      <td>the end</td>\n",
       "    </tr>\n",
       "    <tr>\n",
       "      <td>1</td>\n",
       "      <td>0.381</td>\n",
       "      <td>0.436</td>\n",
       "      <td>5</td>\n",
       "      <td>-6.731</td>\n",
       "      <td>1</td>\n",
       "      <td>0.0329</td>\n",
       "      <td>0.011800</td>\n",
       "      <td>0.000000</td>\n",
       "      <td>0.1330</td>\n",
       "      <td>0.453</td>\n",
       "      <td>183.923</td>\n",
       "      <td>audio_features</td>\n",
       "      <td>2guw9QqCoBNGlJTPQBAAHk</td>\n",
       "      <td>spotify:track:2guw9QqCoBNGlJTPQBAAHk</td>\n",
       "      <td>https://api.spotify.com/v1/tracks/2guw9QqCoBNG...</td>\n",
       "      <td>https://api.spotify.com/v1/audio-analysis/2guw...</td>\n",
       "      <td>149077</td>\n",
       "      <td>3</td>\n",
       "      <td>the end</td>\n",
       "    </tr>\n",
       "    <tr>\n",
       "      <td>2</td>\n",
       "      <td>0.468</td>\n",
       "      <td>0.635</td>\n",
       "      <td>8</td>\n",
       "      <td>-7.079</td>\n",
       "      <td>1</td>\n",
       "      <td>0.0273</td>\n",
       "      <td>0.000202</td>\n",
       "      <td>0.446000</td>\n",
       "      <td>0.1100</td>\n",
       "      <td>0.249</td>\n",
       "      <td>103.946</td>\n",
       "      <td>audio_features</td>\n",
       "      <td>6OHVsfC65IdO9MM8oQPthL</td>\n",
       "      <td>spotify:track:6OHVsfC65IdO9MM8oQPthL</td>\n",
       "      <td>https://api.spotify.com/v1/tracks/6OHVsfC65IdO...</td>\n",
       "      <td>https://api.spotify.com/v1/audio-analysis/6OHV...</td>\n",
       "      <td>159940</td>\n",
       "      <td>4</td>\n",
       "      <td>the end</td>\n",
       "    </tr>\n",
       "    <tr>\n",
       "      <td>3</td>\n",
       "      <td>0.262</td>\n",
       "      <td>0.651</td>\n",
       "      <td>9</td>\n",
       "      <td>-8.413</td>\n",
       "      <td>1</td>\n",
       "      <td>0.0322</td>\n",
       "      <td>0.000070</td>\n",
       "      <td>0.020200</td>\n",
       "      <td>0.0883</td>\n",
       "      <td>0.175</td>\n",
       "      <td>100.463</td>\n",
       "      <td>audio_features</td>\n",
       "      <td>2Lk6WptvmyH5SN73Pi4vZx</td>\n",
       "      <td>spotify:track:2Lk6WptvmyH5SN73Pi4vZx</td>\n",
       "      <td>https://api.spotify.com/v1/tracks/2Lk6WptvmyH5...</td>\n",
       "      <td>https://api.spotify.com/v1/audio-analysis/2Lk6...</td>\n",
       "      <td>237823</td>\n",
       "      <td>4</td>\n",
       "      <td>the end</td>\n",
       "    </tr>\n",
       "    <tr>\n",
       "      <td>4</td>\n",
       "      <td>0.377</td>\n",
       "      <td>0.499</td>\n",
       "      <td>9</td>\n",
       "      <td>-7.228</td>\n",
       "      <td>1</td>\n",
       "      <td>0.0323</td>\n",
       "      <td>0.002350</td>\n",
       "      <td>0.007680</td>\n",
       "      <td>0.1180</td>\n",
       "      <td>0.412</td>\n",
       "      <td>173.595</td>\n",
       "      <td>audio_features</td>\n",
       "      <td>52bYAaDo17L4JNdkBZ1rIw</td>\n",
       "      <td>spotify:track:52bYAaDo17L4JNdkBZ1rIw</td>\n",
       "      <td>https://api.spotify.com/v1/tracks/52bYAaDo17L4...</td>\n",
       "      <td>https://api.spotify.com/v1/audio-analysis/52bY...</td>\n",
       "      <td>206672</td>\n",
       "      <td>4</td>\n",
       "      <td>the end</td>\n",
       "    </tr>\n",
       "    <tr>\n",
       "      <td>...</td>\n",
       "      <td>...</td>\n",
       "      <td>...</td>\n",
       "      <td>...</td>\n",
       "      <td>...</td>\n",
       "      <td>...</td>\n",
       "      <td>...</td>\n",
       "      <td>...</td>\n",
       "      <td>...</td>\n",
       "      <td>...</td>\n",
       "      <td>...</td>\n",
       "      <td>...</td>\n",
       "      <td>...</td>\n",
       "      <td>...</td>\n",
       "      <td>...</td>\n",
       "      <td>...</td>\n",
       "      <td>...</td>\n",
       "      <td>...</td>\n",
       "      <td>...</td>\n",
       "      <td>...</td>\n",
       "    </tr>\n",
       "    <tr>\n",
       "      <td>232</td>\n",
       "      <td>0.181</td>\n",
       "      <td>0.653</td>\n",
       "      <td>5</td>\n",
       "      <td>-5.102</td>\n",
       "      <td>1</td>\n",
       "      <td>0.0380</td>\n",
       "      <td>0.366000</td>\n",
       "      <td>0.000085</td>\n",
       "      <td>0.1600</td>\n",
       "      <td>0.371</td>\n",
       "      <td>204.164</td>\n",
       "      <td>audio_features</td>\n",
       "      <td>3Nb8Fqfi1N01eAASK9jduB</td>\n",
       "      <td>spotify:track:3Nb8Fqfi1N01eAASK9jduB</td>\n",
       "      <td>https://api.spotify.com/v1/tracks/3Nb8Fqfi1N01...</td>\n",
       "      <td>https://api.spotify.com/v1/audio-analysis/3Nb8...</td>\n",
       "      <td>161600</td>\n",
       "      <td>4</td>\n",
       "      <td>The Wry Young Women Writing Sad, Buoyant, Beau...</td>\n",
       "    </tr>\n",
       "    <tr>\n",
       "      <td>233</td>\n",
       "      <td>0.459</td>\n",
       "      <td>0.824</td>\n",
       "      <td>5</td>\n",
       "      <td>-5.296</td>\n",
       "      <td>1</td>\n",
       "      <td>0.0399</td>\n",
       "      <td>0.007650</td>\n",
       "      <td>0.003540</td>\n",
       "      <td>0.1670</td>\n",
       "      <td>0.355</td>\n",
       "      <td>126.352</td>\n",
       "      <td>audio_features</td>\n",
       "      <td>5Ap9hgpKbDugMg7dQmtKgm</td>\n",
       "      <td>spotify:track:5Ap9hgpKbDugMg7dQmtKgm</td>\n",
       "      <td>https://api.spotify.com/v1/tracks/5Ap9hgpKbDug...</td>\n",
       "      <td>https://api.spotify.com/v1/audio-analysis/5Ap9...</td>\n",
       "      <td>180800</td>\n",
       "      <td>4</td>\n",
       "      <td>The Wry Young Women Writing Sad, Buoyant, Beau...</td>\n",
       "    </tr>\n",
       "    <tr>\n",
       "      <td>234</td>\n",
       "      <td>0.538</td>\n",
       "      <td>0.275</td>\n",
       "      <td>2</td>\n",
       "      <td>-8.015</td>\n",
       "      <td>1</td>\n",
       "      <td>0.0278</td>\n",
       "      <td>0.661000</td>\n",
       "      <td>0.000033</td>\n",
       "      <td>0.1450</td>\n",
       "      <td>0.186</td>\n",
       "      <td>97.548</td>\n",
       "      <td>audio_features</td>\n",
       "      <td>64sDUuHnNZgo5cnhVq9lIg</td>\n",
       "      <td>spotify:track:64sDUuHnNZgo5cnhVq9lIg</td>\n",
       "      <td>https://api.spotify.com/v1/tracks/64sDUuHnNZgo...</td>\n",
       "      <td>https://api.spotify.com/v1/audio-analysis/64sD...</td>\n",
       "      <td>152267</td>\n",
       "      <td>4</td>\n",
       "      <td>The Wry Young Women Writing Sad, Buoyant, Beau...</td>\n",
       "    </tr>\n",
       "    <tr>\n",
       "      <td>235</td>\n",
       "      <td>0.279</td>\n",
       "      <td>0.777</td>\n",
       "      <td>6</td>\n",
       "      <td>-3.922</td>\n",
       "      <td>1</td>\n",
       "      <td>0.0462</td>\n",
       "      <td>0.183000</td>\n",
       "      <td>0.761000</td>\n",
       "      <td>0.0874</td>\n",
       "      <td>0.605</td>\n",
       "      <td>118.977</td>\n",
       "      <td>audio_features</td>\n",
       "      <td>3kLsqsxZ9DDwmllHisvK92</td>\n",
       "      <td>spotify:track:3kLsqsxZ9DDwmllHisvK92</td>\n",
       "      <td>https://api.spotify.com/v1/tracks/3kLsqsxZ9DDw...</td>\n",
       "      <td>https://api.spotify.com/v1/audio-analysis/3kLs...</td>\n",
       "      <td>218400</td>\n",
       "      <td>4</td>\n",
       "      <td>The Wry Young Women Writing Sad, Buoyant, Beau...</td>\n",
       "    </tr>\n",
       "    <tr>\n",
       "      <td>236</td>\n",
       "      <td>0.504</td>\n",
       "      <td>0.333</td>\n",
       "      <td>7</td>\n",
       "      <td>-7.598</td>\n",
       "      <td>1</td>\n",
       "      <td>0.0260</td>\n",
       "      <td>0.753000</td>\n",
       "      <td>0.002270</td>\n",
       "      <td>0.0965</td>\n",
       "      <td>0.243</td>\n",
       "      <td>95.383</td>\n",
       "      <td>audio_features</td>\n",
       "      <td>2Ma9esEz9iEKGqLKkyH6L2</td>\n",
       "      <td>spotify:track:2Ma9esEz9iEKGqLKkyH6L2</td>\n",
       "      <td>https://api.spotify.com/v1/tracks/2Ma9esEz9iEK...</td>\n",
       "      <td>https://api.spotify.com/v1/audio-analysis/2Ma9...</td>\n",
       "      <td>227400</td>\n",
       "      <td>4</td>\n",
       "      <td>The Wry Young Women Writing Sad, Buoyant, Beau...</td>\n",
       "    </tr>\n",
       "  </tbody>\n",
       "</table>\n",
       "<p>237 rows × 19 columns</p>\n",
       "</div>"
      ],
      "text/plain": [
       "     danceability  energy  key  loudness  mode  speechiness  acousticness  \\\n",
       "0           0.459   0.617    8    -5.810     1       0.0353      0.000056   \n",
       "1           0.381   0.436    5    -6.731     1       0.0329      0.011800   \n",
       "2           0.468   0.635    8    -7.079     1       0.0273      0.000202   \n",
       "3           0.262   0.651    9    -8.413     1       0.0322      0.000070   \n",
       "4           0.377   0.499    9    -7.228     1       0.0323      0.002350   \n",
       "..            ...     ...  ...       ...   ...          ...           ...   \n",
       "232         0.181   0.653    5    -5.102     1       0.0380      0.366000   \n",
       "233         0.459   0.824    5    -5.296     1       0.0399      0.007650   \n",
       "234         0.538   0.275    2    -8.015     1       0.0278      0.661000   \n",
       "235         0.279   0.777    6    -3.922     1       0.0462      0.183000   \n",
       "236         0.504   0.333    7    -7.598     1       0.0260      0.753000   \n",
       "\n",
       "     instrumentalness  liveness  valence    tempo            type  \\\n",
       "0            0.354000    0.0443    0.522  117.959  audio_features   \n",
       "1            0.000000    0.1330    0.453  183.923  audio_features   \n",
       "2            0.446000    0.1100    0.249  103.946  audio_features   \n",
       "3            0.020200    0.0883    0.175  100.463  audio_features   \n",
       "4            0.007680    0.1180    0.412  173.595  audio_features   \n",
       "..                ...       ...      ...      ...             ...   \n",
       "232          0.000085    0.1600    0.371  204.164  audio_features   \n",
       "233          0.003540    0.1670    0.355  126.352  audio_features   \n",
       "234          0.000033    0.1450    0.186   97.548  audio_features   \n",
       "235          0.761000    0.0874    0.605  118.977  audio_features   \n",
       "236          0.002270    0.0965    0.243   95.383  audio_features   \n",
       "\n",
       "                         id                                   uri  \\\n",
       "0    1qoqz2LrkRl2A24OSdp6wI  spotify:track:1qoqz2LrkRl2A24OSdp6wI   \n",
       "1    2guw9QqCoBNGlJTPQBAAHk  spotify:track:2guw9QqCoBNGlJTPQBAAHk   \n",
       "2    6OHVsfC65IdO9MM8oQPthL  spotify:track:6OHVsfC65IdO9MM8oQPthL   \n",
       "3    2Lk6WptvmyH5SN73Pi4vZx  spotify:track:2Lk6WptvmyH5SN73Pi4vZx   \n",
       "4    52bYAaDo17L4JNdkBZ1rIw  spotify:track:52bYAaDo17L4JNdkBZ1rIw   \n",
       "..                      ...                                   ...   \n",
       "232  3Nb8Fqfi1N01eAASK9jduB  spotify:track:3Nb8Fqfi1N01eAASK9jduB   \n",
       "233  5Ap9hgpKbDugMg7dQmtKgm  spotify:track:5Ap9hgpKbDugMg7dQmtKgm   \n",
       "234  64sDUuHnNZgo5cnhVq9lIg  spotify:track:64sDUuHnNZgo5cnhVq9lIg   \n",
       "235  3kLsqsxZ9DDwmllHisvK92  spotify:track:3kLsqsxZ9DDwmllHisvK92   \n",
       "236  2Ma9esEz9iEKGqLKkyH6L2  spotify:track:2Ma9esEz9iEKGqLKkyH6L2   \n",
       "\n",
       "                                            track_href  \\\n",
       "0    https://api.spotify.com/v1/tracks/1qoqz2LrkRl2...   \n",
       "1    https://api.spotify.com/v1/tracks/2guw9QqCoBNG...   \n",
       "2    https://api.spotify.com/v1/tracks/6OHVsfC65IdO...   \n",
       "3    https://api.spotify.com/v1/tracks/2Lk6WptvmyH5...   \n",
       "4    https://api.spotify.com/v1/tracks/52bYAaDo17L4...   \n",
       "..                                                 ...   \n",
       "232  https://api.spotify.com/v1/tracks/3Nb8Fqfi1N01...   \n",
       "233  https://api.spotify.com/v1/tracks/5Ap9hgpKbDug...   \n",
       "234  https://api.spotify.com/v1/tracks/64sDUuHnNZgo...   \n",
       "235  https://api.spotify.com/v1/tracks/3kLsqsxZ9DDw...   \n",
       "236  https://api.spotify.com/v1/tracks/2Ma9esEz9iEK...   \n",
       "\n",
       "                                          analysis_url  duration_ms  \\\n",
       "0    https://api.spotify.com/v1/audio-analysis/1qoq...       208967   \n",
       "1    https://api.spotify.com/v1/audio-analysis/2guw...       149077   \n",
       "2    https://api.spotify.com/v1/audio-analysis/6OHV...       159940   \n",
       "3    https://api.spotify.com/v1/audio-analysis/2Lk6...       237823   \n",
       "4    https://api.spotify.com/v1/audio-analysis/52bY...       206672   \n",
       "..                                                 ...          ...   \n",
       "232  https://api.spotify.com/v1/audio-analysis/3Nb8...       161600   \n",
       "233  https://api.spotify.com/v1/audio-analysis/5Ap9...       180800   \n",
       "234  https://api.spotify.com/v1/audio-analysis/64sD...       152267   \n",
       "235  https://api.spotify.com/v1/audio-analysis/3kLs...       218400   \n",
       "236  https://api.spotify.com/v1/audio-analysis/2Ma9...       227400   \n",
       "\n",
       "     time_signature                                      playlist_name  \n",
       "0                 4                                            the end  \n",
       "1                 3                                            the end  \n",
       "2                 4                                            the end  \n",
       "3                 4                                            the end  \n",
       "4                 4                                            the end  \n",
       "..              ...                                                ...  \n",
       "232               4  The Wry Young Women Writing Sad, Buoyant, Beau...  \n",
       "233               4  The Wry Young Women Writing Sad, Buoyant, Beau...  \n",
       "234               4  The Wry Young Women Writing Sad, Buoyant, Beau...  \n",
       "235               4  The Wry Young Women Writing Sad, Buoyant, Beau...  \n",
       "236               4  The Wry Young Women Writing Sad, Buoyant, Beau...  \n",
       "\n",
       "[237 rows x 19 columns]"
      ]
     },
     "execution_count": 366,
     "metadata": {},
     "output_type": "execute_result"
    }
   ],
   "source": [
    "playlist_df"
   ]
  },
  {
   "cell_type": "code",
   "execution_count": 239,
   "metadata": {},
   "outputs": [],
   "source": [
    "def audioFeatures_byArtist(name=None,artist_id=None,track_ids=None,playlist=None):\n",
    "    pass"
   ]
  },
  {
   "cell_type": "code",
   "execution_count": null,
   "metadata": {},
   "outputs": [],
   "source": []
  },
  {
   "cell_type": "markdown",
   "metadata": {},
   "source": [
    "### scraping for billboard charts "
   ]
  },
  {
   "cell_type": "code",
   "execution_count": 5,
   "metadata": {},
   "outputs": [],
   "source": [
    "import requests\n",
    "from bs4 import BeautifulSoup\n",
    "import pandas as pd"
   ]
  },
  {
   "cell_type": "code",
   "execution_count": 2,
   "metadata": {},
   "outputs": [],
   "source": [
    "page = requests.get(\"http://billboardtop100of.com/2019-2/\")"
   ]
  },
  {
   "cell_type": "code",
   "execution_count": 8,
   "metadata": {},
   "outputs": [],
   "source": [
    "bs = BeautifulSoup(page.content)"
   ]
  },
  {
   "cell_type": "code",
   "execution_count": 9,
   "metadata": {},
   "outputs": [],
   "source": [
    "p_tags = bs.find_all('p')\n",
    "\n",
    "text = [p.getText(strip=True) for p in p_tags]\n",
    "\n",
    "records = []\n",
    "for n,p_tag in enumerate(p_tags):\n",
    "    try:\n",
    "        record = {\n",
    "            \"rank\":int(p_tag.getText(strip=True)),\n",
    "            \"song\":p_tags[n+1].getText(strip=True),\n",
    "            \"artist\":p_tags[n+2].getText(strip=True),\n",
    "            \"year\":2019\n",
    "        }\n",
    "        records.append(record)\n",
    "    except:\n",
    "        continue "
   ]
  },
  {
   "cell_type": "code",
   "execution_count": 50,
   "metadata": {},
   "outputs": [
    {
     "data": {
      "text/plain": [
       "100"
      ]
     },
     "execution_count": 50,
     "metadata": {},
     "output_type": "execute_result"
    }
   ],
   "source": [
    "len(records)"
   ]
  },
  {
   "cell_type": "code",
   "execution_count": 13,
   "metadata": {},
   "outputs": [],
   "source": [
    "def scrape_top100(year):\n",
    "    year = str(year)\n",
    "    \n",
    "    page = requests.get(f\"http://billboardtop100of.com/{year}-2/\")\n",
    "    bs = BeautifulSoup(page.content)\n",
    "    \n",
    "    # first try \n",
    "    p_tags = bs.find_all('p')\n",
    "\n",
    "    text = [p.getText(strip=True) for p in p_tags]\n",
    "\n",
    "    records = []\n",
    "    for n,p_tag in enumerate(p_tags):\n",
    "        try:\n",
    "            record = {\n",
    "                \"rank\":int(p_tag.getText(strip=True)),\n",
    "                \"song\":p_tags[n+1].getText(strip=True),\n",
    "                \"artist\":p_tags[n+2].getText(strip=True),\n",
    "                \"year\":year\n",
    "            }\n",
    "            records.append(record)\n",
    "        except:\n",
    "            continue \n",
    "    \n",
    "    if len(records)==100:\n",
    "        return records\n",
    "    else: #<-- if the first method didn't work..\n",
    "        # second method\n",
    "        ranks = [x.getText(strip=True) for x in bs.find_all(attrs={'class':\"ye-chart-item__rank\"})]\n",
    "\n",
    "        songs = [x.getText(strip=True) for x in bs.find_all(attrs={'class':\"ye-chart-item__title\"})]\n",
    "\n",
    "        artists = [x.getText(strip=True) for x in bs.find_all(attrs={'class':\"ye-chart-item__artist\"})]\n",
    "    \n",
    "        records = [{'rank':rank,'song':song,'artist':artist,'year':year} for rank,song,artist in zip(ranks,songs,artists)]\n",
    "        \n",
    "        if len(records)==100:\n",
    "            return records\n",
    "        else:\n",
    "            # 3rd method\n",
    "            dfs = pd.read_html(f\"http://billboardtop100of.com/{year}-2/\")\n",
    "            df=dfs[0]\n",
    "            df.columns = ['rank','artist','song']\n",
    "            df['year']=year\n",
    "            records = df.to_dict(orient='records')\n",
    "            if len(records)==100:\n",
    "                return records\n",
    "            "
   ]
  },
  {
   "cell_type": "code",
   "execution_count": 15,
   "metadata": {},
   "outputs": [
    {
     "name": "stdout",
     "output_type": "stream",
     "text": [
      "o\n",
      "o\n",
      "o\n",
      "o\n",
      "o\n",
      "o\n",
      "o\n",
      "o\n",
      "o\n",
      "o\n",
      "o\n",
      "o\n",
      "o\n",
      "x\n",
      "o\n",
      "o\n",
      "o\n",
      "o\n",
      "o\n",
      "o\n"
     ]
    }
   ],
   "source": [
    "records = []\n",
    "errors = []\n",
    "for year in list(range(2000,2020)):\n",
    "    try:\n",
    "        records.extend(scrape_top100(year))\n",
    "        print('o')\n",
    "    except:\n",
    "        print(\"x\")\n",
    "        errors.append(year)"
   ]
  },
  {
   "cell_type": "code",
   "execution_count": 19,
   "metadata": {},
   "outputs": [],
   "source": [
    "page = requests.get(\"http://billboardtop100of.com/2013-2/\")\n",
    "bs = BeautifulSoup(page.content)"
   ]
  },
  {
   "cell_type": "code",
   "execution_count": 29,
   "metadata": {},
   "outputs": [],
   "source": [
    "entries = bs.find('small').getText().split('\\n')"
   ]
  },
  {
   "cell_type": "code",
   "execution_count": 61,
   "metadata": {},
   "outputs": [
    {
     "data": {
      "text/plain": [
       "['1.\\xa0\\xa0 \\xa0Macklemore & Ryan Lewis Featuring Ray Dalton – Can’t Hold Us',\n",
       " '2.\\xa0\\xa0 \\xa0Baauer – Harlem Shake',\n",
       " '3.\\xa0\\xa0 \\xa0P!nk Featuring Nate Ruess – Just Give Me A Reason',\n",
       " '4.\\xa0\\xa0 \\xa0Robin Thicke Featuring T.I. + Pharrell – Blurred Lines',\n",
       " '5.\\xa0\\xa0 \\xa0Lorde – Royals']"
      ]
     },
     "execution_count": 61,
     "metadata": {},
     "output_type": "execute_result"
    }
   ],
   "source": [
    "entries[:5]"
   ]
  },
  {
   "cell_type": "code",
   "execution_count": 71,
   "metadata": {},
   "outputs": [
    {
     "name": "stdout",
     "output_type": "stream",
     "text": [
      "    Mike WiLL Made-It Featuring Miley Cyrus, Wiz Khalifa & Juicy J\n",
      "    Big Sean Featuring Lil Wayne & Jhene Aiko –\n"
     ]
    }
   ],
   "source": [
    "records = []\n",
    "for e in entries:\n",
    "    try:\n",
    "        record = {}\n",
    "        record[\"rank\"] = e.split('.')[0]\n",
    "        e = \"\".join(x for x in e.split('.')[1:])\n",
    "        song_artist = e.replace('\\xa0','').strip()\n",
    "        record['song'], record[\"artist\"] = song_artist.split(\" – \")\n",
    "        record['year']='2013'\n",
    "        records.append(record)\n",
    "    except:\n",
    "        print(e)"
   ]
  },
  {
   "cell_type": "code",
   "execution_count": null,
   "metadata": {},
   "outputs": [],
   "source": [
    "[\n",
    "    {'rank':40,\n",
    "     'artist':\"Mike WiLL Made-It Featuring Miley Cyrus, Wiz Khalifa & Juicy J\",\n",
    "     \"song\":\"23\",\n",
    "     'year':'2013'},\n",
    "    {'rank':100}\n",
    "]"
   ]
  },
  {
   "cell_type": "code",
   "execution_count": 72,
   "metadata": {},
   "outputs": [
    {
     "data": {
      "text/html": [
       "<div>\n",
       "<style scoped>\n",
       "    .dataframe tbody tr th:only-of-type {\n",
       "        vertical-align: middle;\n",
       "    }\n",
       "\n",
       "    .dataframe tbody tr th {\n",
       "        vertical-align: top;\n",
       "    }\n",
       "\n",
       "    .dataframe thead th {\n",
       "        text-align: right;\n",
       "    }\n",
       "</style>\n",
       "<table border=\"1\" class=\"dataframe\">\n",
       "  <thead>\n",
       "    <tr style=\"text-align: right;\">\n",
       "      <th></th>\n",
       "      <th>rank</th>\n",
       "      <th>song</th>\n",
       "      <th>artist</th>\n",
       "      <th>year</th>\n",
       "    </tr>\n",
       "  </thead>\n",
       "  <tbody>\n",
       "    <tr>\n",
       "      <td>0</td>\n",
       "      <td>1</td>\n",
       "      <td>Macklemore &amp; Ryan Lewis Featuring Ray Dalton</td>\n",
       "      <td>Can’t Hold Us</td>\n",
       "      <td>2013</td>\n",
       "    </tr>\n",
       "    <tr>\n",
       "      <td>1</td>\n",
       "      <td>2</td>\n",
       "      <td>Baauer</td>\n",
       "      <td>Harlem Shake</td>\n",
       "      <td>2013</td>\n",
       "    </tr>\n",
       "    <tr>\n",
       "      <td>2</td>\n",
       "      <td>3</td>\n",
       "      <td>P!nk Featuring Nate Ruess</td>\n",
       "      <td>Just Give Me A Reason</td>\n",
       "      <td>2013</td>\n",
       "    </tr>\n",
       "    <tr>\n",
       "      <td>3</td>\n",
       "      <td>4</td>\n",
       "      <td>Robin Thicke Featuring TI + Pharrell</td>\n",
       "      <td>Blurred Lines</td>\n",
       "      <td>2013</td>\n",
       "    </tr>\n",
       "    <tr>\n",
       "      <td>4</td>\n",
       "      <td>5</td>\n",
       "      <td>Lorde</td>\n",
       "      <td>Royals</td>\n",
       "      <td>2013</td>\n",
       "    </tr>\n",
       "    <tr>\n",
       "      <td>...</td>\n",
       "      <td>...</td>\n",
       "      <td>...</td>\n",
       "      <td>...</td>\n",
       "      <td>...</td>\n",
       "    </tr>\n",
       "    <tr>\n",
       "      <td>93</td>\n",
       "      <td>95</td>\n",
       "      <td>Tyler Farr</td>\n",
       "      <td>Redneck Crazy</td>\n",
       "      <td>2013</td>\n",
       "    </tr>\n",
       "    <tr>\n",
       "      <td>94</td>\n",
       "      <td>96</td>\n",
       "      <td>Krewella</td>\n",
       "      <td>Alive</td>\n",
       "      <td>2013</td>\n",
       "    </tr>\n",
       "    <tr>\n",
       "      <td>95</td>\n",
       "      <td>97</td>\n",
       "      <td>Sara Bareilles</td>\n",
       "      <td>Brave</td>\n",
       "      <td>2013</td>\n",
       "    </tr>\n",
       "    <tr>\n",
       "      <td>96</td>\n",
       "      <td>98</td>\n",
       "      <td>The FiNATTiCZ</td>\n",
       "      <td>Don’t Drop That Thun Thun!</td>\n",
       "      <td>2013</td>\n",
       "    </tr>\n",
       "    <tr>\n",
       "      <td>97</td>\n",
       "      <td>99</td>\n",
       "      <td>Justin Timberlake</td>\n",
       "      <td>TKO</td>\n",
       "      <td>2013</td>\n",
       "    </tr>\n",
       "  </tbody>\n",
       "</table>\n",
       "<p>98 rows × 4 columns</p>\n",
       "</div>"
      ],
      "text/plain": [
       "   rank                                          song  \\\n",
       "0     1  Macklemore & Ryan Lewis Featuring Ray Dalton   \n",
       "1     2                                        Baauer   \n",
       "2     3                     P!nk Featuring Nate Ruess   \n",
       "3     4          Robin Thicke Featuring TI + Pharrell   \n",
       "4     5                                         Lorde   \n",
       "..  ...                                           ...   \n",
       "93   95                                    Tyler Farr   \n",
       "94   96                                      Krewella   \n",
       "95   97                                Sara Bareilles   \n",
       "96   98                                 The FiNATTiCZ   \n",
       "97   99                             Justin Timberlake   \n",
       "\n",
       "                        artist  year  \n",
       "0                Can’t Hold Us  2013  \n",
       "1                 Harlem Shake  2013  \n",
       "2        Just Give Me A Reason  2013  \n",
       "3                Blurred Lines  2013  \n",
       "4                       Royals  2013  \n",
       "..                         ...   ...  \n",
       "93               Redneck Crazy  2013  \n",
       "94                       Alive  2013  \n",
       "95                       Brave  2013  \n",
       "96  Don’t Drop That Thun Thun!  2013  \n",
       "97                         TKO  2013  \n",
       "\n",
       "[98 rows x 4 columns]"
      ]
     },
     "execution_count": 72,
     "metadata": {},
     "output_type": "execute_result"
    }
   ],
   "source": [
    "pd.DataFrame.from_records(records)"
   ]
  },
  {
   "cell_type": "code",
   "execution_count": 63,
   "metadata": {},
   "outputs": [],
   "source": [
    "e=\"4.    Robin Thicke Featuring T.I. + Pharrell – Blurred Lines\""
   ]
  },
  {
   "cell_type": "code",
   "execution_count": 66,
   "metadata": {},
   "outputs": [
    {
     "data": {
      "text/plain": [
       "'    Robin Thicke Featuring TI + Pharrell – Blurred Lines'"
      ]
     },
     "execution_count": 66,
     "metadata": {},
     "output_type": "execute_result"
    }
   ],
   "source": [
    "\"\".join(x for x in e.split('.')[1:])"
   ]
  },
  {
   "cell_type": "code",
   "execution_count": 43,
   "metadata": {},
   "outputs": [],
   "source": [
    "song_artist = e.split('.')[1].replace('\\xa0','').strip()"
   ]
  },
  {
   "cell_type": "code",
   "execution_count": 57,
   "metadata": {},
   "outputs": [],
   "source": [
    "song,artist = song_artist.split(\" – \")"
   ]
  },
  {
   "cell_type": "code",
   "execution_count": 58,
   "metadata": {},
   "outputs": [
    {
     "data": {
      "text/plain": [
       "'Macklemore & Ryan Lewis Featuring Ray Dalton'"
      ]
     },
     "execution_count": 58,
     "metadata": {},
     "output_type": "execute_result"
    }
   ],
   "source": [
    "song"
   ]
  },
  {
   "cell_type": "code",
   "execution_count": 54,
   "metadata": {},
   "outputs": [
    {
     "data": {
      "text/plain": [
       "'–'"
      ]
     },
     "execution_count": 54,
     "metadata": {},
     "output_type": "execute_result"
    }
   ],
   "source": [
    "song_artist[-15]"
   ]
  },
  {
   "cell_type": "code",
   "execution_count": 25,
   "metadata": {},
   "outputs": [],
   "source": [
    "df = pd.DataFrame.from_records(records)"
   ]
  },
  {
   "cell_type": "code",
   "execution_count": 26,
   "metadata": {},
   "outputs": [],
   "source": [
    "df.to_csv(\"resources/data/billboard_hot100.csv\",index=False)"
   ]
  },
  {
   "cell_type": "code",
   "execution_count": 27,
   "metadata": {},
   "outputs": [],
   "source": [
    "df = pd.read_csv(\"resources/data/billboard_hot100.csv\")"
   ]
  },
  {
   "cell_type": "code",
   "execution_count": 100,
   "metadata": {},
   "outputs": [
    {
     "data": {
      "text/plain": [
       "True"
      ]
     },
     "execution_count": 100,
     "metadata": {},
     "output_type": "execute_result"
    }
   ],
   "source": [
    "2010 in df['year'].to_list()"
   ]
  },
  {
   "cell_type": "code",
   "execution_count": null,
   "metadata": {},
   "outputs": [],
   "source": []
  }
 ],
 "metadata": {
  "kernelspec": {
   "display_name": "Python 3",
   "language": "python",
   "name": "python3"
  },
  "language_info": {
   "codemirror_mode": {
    "name": "ipython",
    "version": 3
   },
   "file_extension": ".py",
   "mimetype": "text/x-python",
   "name": "python",
   "nbconvert_exporter": "python",
   "pygments_lexer": "ipython3",
   "version": "3.7.3"
  }
 },
 "nbformat": 4,
 "nbformat_minor": 4
}
