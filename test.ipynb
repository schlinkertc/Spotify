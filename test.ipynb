{
 "cells": [
  {
   "cell_type": "code",
   "execution_count": 1,
   "metadata": {},
   "outputs": [],
   "source": [
    "import requests\n",
    "import spotipy\n",
    "from spotipy.oauth2 import SpotifyClientCredentials\n",
    "import pandas as pd\n",
    "import config"
   ]
  },
  {
   "cell_type": "code",
   "execution_count": 2,
   "metadata": {},
   "outputs": [],
   "source": [
    "client_credentials_manager = SpotifyClientCredentials(\n",
    "    client_id=config.client_id,\n",
    "    client_secret=config.client_secret\n",
    ")\n",
    "\n",
    "sp = spotipy.Spotify(\n",
    "    client_credentials_manager=client_credentials_manager\n",
    ")"
   ]
  },
  {
   "cell_type": "code",
   "execution_count": 61,
   "metadata": {},
   "outputs": [],
   "source": [
    "hot_100 = pd.read_csv('resources/data/billboard_hot100.csv')"
   ]
  },
  {
   "cell_type": "code",
   "execution_count": 62,
   "metadata": {},
   "outputs": [
    {
     "data": {
      "text/html": [
       "<div>\n",
       "<style scoped>\n",
       "    .dataframe tbody tr th:only-of-type {\n",
       "        vertical-align: middle;\n",
       "    }\n",
       "\n",
       "    .dataframe tbody tr th {\n",
       "        vertical-align: top;\n",
       "    }\n",
       "\n",
       "    .dataframe thead th {\n",
       "        text-align: right;\n",
       "    }\n",
       "</style>\n",
       "<table border=\"1\" class=\"dataframe\">\n",
       "  <thead>\n",
       "    <tr style=\"text-align: right;\">\n",
       "      <th></th>\n",
       "      <th>rank</th>\n",
       "      <th>artist</th>\n",
       "      <th>song</th>\n",
       "      <th>year</th>\n",
       "    </tr>\n",
       "  </thead>\n",
       "  <tbody>\n",
       "    <tr>\n",
       "      <th>0</th>\n",
       "      <td>1</td>\n",
       "      <td>Faith Hill</td>\n",
       "      <td>Breathe</td>\n",
       "      <td>2000</td>\n",
       "    </tr>\n",
       "    <tr>\n",
       "      <th>1</th>\n",
       "      <td>2</td>\n",
       "      <td>Santana feat. Rob Thomas</td>\n",
       "      <td>Smooth</td>\n",
       "      <td>2000</td>\n",
       "    </tr>\n",
       "    <tr>\n",
       "      <th>2</th>\n",
       "      <td>3</td>\n",
       "      <td>Santana feat. The Product GandB</td>\n",
       "      <td>Maria Maria</td>\n",
       "      <td>2000</td>\n",
       "    </tr>\n",
       "    <tr>\n",
       "      <th>3</th>\n",
       "      <td>4</td>\n",
       "      <td>Joe</td>\n",
       "      <td>I Wanna Know</td>\n",
       "      <td>2000</td>\n",
       "    </tr>\n",
       "    <tr>\n",
       "      <th>4</th>\n",
       "      <td>5</td>\n",
       "      <td>Vertical Horizon</td>\n",
       "      <td>Everything You Want</td>\n",
       "      <td>2000</td>\n",
       "    </tr>\n",
       "    <tr>\n",
       "      <th>...</th>\n",
       "      <td>...</td>\n",
       "      <td>...</td>\n",
       "      <td>...</td>\n",
       "      <td>...</td>\n",
       "    </tr>\n",
       "    <tr>\n",
       "      <th>95</th>\n",
       "      <td>97</td>\n",
       "      <td>Brave</td>\n",
       "      <td>Sara Bareilles</td>\n",
       "      <td>2013</td>\n",
       "    </tr>\n",
       "    <tr>\n",
       "      <th>96</th>\n",
       "      <td>98</td>\n",
       "      <td>Don’t Drop That Thun Thun!</td>\n",
       "      <td>The FiNATTiCZ</td>\n",
       "      <td>2013</td>\n",
       "    </tr>\n",
       "    <tr>\n",
       "      <th>97</th>\n",
       "      <td>99</td>\n",
       "      <td>TKO</td>\n",
       "      <td>Justin Timberlake</td>\n",
       "      <td>2013</td>\n",
       "    </tr>\n",
       "    <tr>\n",
       "      <th>98</th>\n",
       "      <td>40</td>\n",
       "      <td>Mike WiLL Made-It Featuring Miley Cyrus, Wiz K...</td>\n",
       "      <td>23</td>\n",
       "      <td>2013</td>\n",
       "    </tr>\n",
       "    <tr>\n",
       "      <th>99</th>\n",
       "      <td>100</td>\n",
       "      <td>Big Sean Featuring Lil Wayne &amp; Jhene Aiko</td>\n",
       "      <td>Beware</td>\n",
       "      <td>2013</td>\n",
       "    </tr>\n",
       "  </tbody>\n",
       "</table>\n",
       "<p>2000 rows × 4 columns</p>\n",
       "</div>"
      ],
      "text/plain": [
       "    rank                                             artist  \\\n",
       "0      1                                         Faith Hill   \n",
       "1      2                           Santana feat. Rob Thomas   \n",
       "2      3                    Santana feat. The Product GandB   \n",
       "3      4                                                Joe   \n",
       "4      5                                   Vertical Horizon   \n",
       "..   ...                                                ...   \n",
       "95    97                                              Brave   \n",
       "96    98                         Don’t Drop That Thun Thun!   \n",
       "97    99                                                TKO   \n",
       "98    40  Mike WiLL Made-It Featuring Miley Cyrus, Wiz K...   \n",
       "99   100          Big Sean Featuring Lil Wayne & Jhene Aiko   \n",
       "\n",
       "                   song  year  \n",
       "0               Breathe  2000  \n",
       "1                Smooth  2000  \n",
       "2           Maria Maria  2000  \n",
       "3          I Wanna Know  2000  \n",
       "4   Everything You Want  2000  \n",
       "..                  ...   ...  \n",
       "95       Sara Bareilles  2013  \n",
       "96        The FiNATTiCZ  2013  \n",
       "97    Justin Timberlake  2013  \n",
       "98                   23  2013  \n",
       "99               Beware  2013  \n",
       "\n",
       "[2000 rows x 4 columns]"
      ]
     },
     "execution_count": 62,
     "metadata": {},
     "output_type": "execute_result"
    }
   ],
   "source": [
    "hot_100"
   ]
  },
  {
   "cell_type": "code",
   "execution_count": 65,
   "metadata": {},
   "outputs": [],
   "source": [
    "q = sp.search(q='23',type='track')"
   ]
  },
  {
   "cell_type": "code",
   "execution_count": 81,
   "metadata": {},
   "outputs": [
    {
     "data": {
      "text/plain": [
       "'2018-09-07'"
      ]
     },
     "execution_count": 81,
     "metadata": {},
     "output_type": "execute_result"
    }
   ],
   "source": [
    "q['tracks']['items'][4]['album']['release_date']"
   ]
  },
  {
   "cell_type": "code",
   "execution_count": 86,
   "metadata": {},
   "outputs": [],
   "source": [
    "track = [x for x in q['tracks']['items'] if '2013' in x['album']['release_date']][0]"
   ]
  },
  {
   "cell_type": "code",
   "execution_count": 90,
   "metadata": {},
   "outputs": [
    {
     "data": {
      "text/plain": [
       "dict_keys(['album_type', 'artists', 'available_markets', 'external_urls', 'href', 'id', 'images', 'name', 'release_date', 'release_date_precision', 'total_tracks', 'type', 'uri'])"
      ]
     },
     "execution_count": 90,
     "metadata": {},
     "output_type": "execute_result"
    }
   ],
   "source": [
    "track['album'].keys()"
   ]
  },
  {
   "cell_type": "code",
   "execution_count": 104,
   "metadata": {},
   "outputs": [],
   "source": [
    "d['release_date']=track['album']['release_date']\n",
    "d['album_id']=track['album']['id']\n",
    "d['album_name']=track['album']['name']\n",
    "d['album_type']=track['album']['type']\n",
    "\n",
    "d['artists'] = \"\".join([x['name']+', ' for x in track['artists']]).strip(' ,')\n",
    "\n",
    "d['track_id'] = track['id']"
   ]
  },
  {
   "cell_type": "code",
   "execution_count": 110,
   "metadata": {},
   "outputs": [
    {
     "data": {
      "text/plain": [
       "'23'"
      ]
     },
     "execution_count": 110,
     "metadata": {},
     "output_type": "execute_result"
    }
   ],
   "source": [
    "d['track_name'] = track['name']"
   ]
  },
  {
   "cell_type": "code",
   "execution_count": 114,
   "metadata": {},
   "outputs": [],
   "source": [
    "records = data.to_dict(orient='records')"
   ]
  },
  {
   "cell_type": "code",
   "execution_count": 204,
   "metadata": {},
   "outputs": [],
   "source": [
    "def get_song_info(record):\n",
    "    q = sp.search(q=record['song'],type='track')\n",
    "    try:\n",
    "        track = [x for x in q['tracks']['items'] if str(record['year']) in x['album']['release_date']][0]\n",
    "    except IndexError:\n",
    "        try:\n",
    "            track = [x for x in q['tracks']['items'] if record['artist'] in [a['name'] for a in x['artists']]][0]\n",
    "        except IndexError:\n",
    "            try:\n",
    "                artist = record['artist'].split('feat')[0].strip()\n",
    "                track = [x for x in q['tracks']['items'] if artist in [a['name'] for a in x['artists']]][0]\n",
    "            except IndexError:\n",
    "                    track = [x for x in q['tracks']['items']][0]\n",
    "    d = {}\n",
    "    \n",
    "    d['release_date']=track['album']['release_date']\n",
    "    d['album_id']=track['album']['id']\n",
    "    d['album_name']=track['album']['name']\n",
    "    d['album_type']=track['album']['type']\n",
    "\n",
    "    d['artists'] = \"\".join([x['name']+', ' for x in track['artists']]).strip(' ,')\n",
    "    d['track_name'] = track['name']\n",
    "    d['track_id'] = track['id']\n",
    "    \n",
    "    return d"
   ]
  },
  {
   "cell_type": "code",
   "execution_count": 131,
   "metadata": {},
   "outputs": [
    {
     "name": "stdout",
     "output_type": "stream",
     "text": [
      "retrying after...1secs\n",
      "retrying after...1secs\n",
      "retrying after...2secs\n",
      "retrying after...1secs\n"
     ]
    }
   ],
   "source": [
    "for record in records:\n",
    "    try:\n",
    "        record.update(get_song_info(record))\n",
    "    except:\n",
    "        continue"
   ]
  },
  {
   "cell_type": "code",
   "execution_count": 134,
   "metadata": {},
   "outputs": [],
   "source": [
    "data = pd.DataFrame.from_records(records)"
   ]
  },
  {
   "cell_type": "code",
   "execution_count": 137,
   "metadata": {},
   "outputs": [],
   "source": [
    "errs = data[data['track_id'].isna()==True].to_dict(orient='records')"
   ]
  },
  {
   "cell_type": "code",
   "execution_count": 171,
   "metadata": {},
   "outputs": [
    {
     "name": "stdout",
     "output_type": "stream",
     "text": [
      "retrying after...1secs\n"
     ]
    }
   ],
   "source": [
    "for e in errs:\n",
    "    try:\n",
    "        e.update(get_song_info(e))\n",
    "    except:\n",
    "        continue"
   ]
  },
  {
   "cell_type": "code",
   "execution_count": 192,
   "metadata": {},
   "outputs": [
    {
     "data": {
      "text/plain": [
       "[{'rank': 6,\n",
       "  'artist': 'Destiny’s Child',\n",
       "  'song': 'Say My Name',\n",
       "  'year': 2000,\n",
       "  'release_date': nan,\n",
       "  'album_id': nan,\n",
       "  'album_name': nan,\n",
       "  'album_type': nan,\n",
       "  'artists': nan,\n",
       "  'track_name': nan,\n",
       "  'track_id': nan}]"
      ]
     },
     "execution_count": 192,
     "metadata": {},
     "output_type": "execute_result"
    }
   ],
   "source": [
    "errs[:1]"
   ]
  },
  {
   "cell_type": "code",
   "execution_count": 182,
   "metadata": {},
   "outputs": [],
   "source": [
    "#data = data.dropna().append(pd.DataFrame.from_records(errs))\n",
    "\n",
    "errs = data[data['track_id'].isna()==True].to_dict(orient='records')"
   ]
  },
  {
   "cell_type": "code",
   "execution_count": 206,
   "metadata": {},
   "outputs": [
    {
     "name": "stdout",
     "output_type": "stream",
     "text": [
      "retrying after...2secs\n",
      "retrying after...2secs\n",
      "retrying after...3secs\n"
     ]
    }
   ],
   "source": [
    "for e in errs:\n",
    "    try:\n",
    "        e.update(get_song_info(e))\n",
    "    except:\n",
    "        continue"
   ]
  },
  {
   "cell_type": "code",
   "execution_count": 207,
   "metadata": {},
   "outputs": [],
   "source": [
    "data = data.dropna().append(pd.DataFrame.from_records(errs))"
   ]
  },
  {
   "cell_type": "code",
   "execution_count": 210,
   "metadata": {},
   "outputs": [
    {
     "data": {
      "text/html": [
       "<div>\n",
       "<style scoped>\n",
       "    .dataframe tbody tr th:only-of-type {\n",
       "        vertical-align: middle;\n",
       "    }\n",
       "\n",
       "    .dataframe tbody tr th {\n",
       "        vertical-align: top;\n",
       "    }\n",
       "\n",
       "    .dataframe thead th {\n",
       "        text-align: right;\n",
       "    }\n",
       "</style>\n",
       "<table border=\"1\" class=\"dataframe\">\n",
       "  <thead>\n",
       "    <tr style=\"text-align: right;\">\n",
       "      <th></th>\n",
       "      <th>rank</th>\n",
       "      <th>artist</th>\n",
       "      <th>song</th>\n",
       "      <th>year</th>\n",
       "      <th>release_date</th>\n",
       "      <th>album_id</th>\n",
       "      <th>album_name</th>\n",
       "      <th>album_type</th>\n",
       "      <th>artists</th>\n",
       "      <th>track_name</th>\n",
       "      <th>track_id</th>\n",
       "    </tr>\n",
       "  </thead>\n",
       "  <tbody>\n",
       "    <tr>\n",
       "      <th>25</th>\n",
       "      <td>53</td>\n",
       "      <td>Lil’ Mo feat. Fabolous</td>\n",
       "      <td>Superwoman Pt. II</td>\n",
       "      <td>2001</td>\n",
       "      <td>NaN</td>\n",
       "      <td>NaN</td>\n",
       "      <td>NaN</td>\n",
       "      <td>NaN</td>\n",
       "      <td>NaN</td>\n",
       "      <td>NaN</td>\n",
       "      <td>NaN</td>\n",
       "    </tr>\n",
       "    <tr>\n",
       "      <th>85</th>\n",
       "      <td>41</td>\n",
       "      <td>T-Pain feat. Mike Jones</td>\n",
       "      <td>I’n N Luv (Wit a Stripper)</td>\n",
       "      <td>2006</td>\n",
       "      <td>NaN</td>\n",
       "      <td>NaN</td>\n",
       "      <td>NaN</td>\n",
       "      <td>NaN</td>\n",
       "      <td>NaN</td>\n",
       "      <td>NaN</td>\n",
       "      <td>NaN</td>\n",
       "    </tr>\n",
       "    <tr>\n",
       "      <th>127</th>\n",
       "      <td>1</td>\n",
       "      <td>Mark Ronson feat. Bruno Mars</td>\n",
       "      <td>Uptown Funk! LYRICS</td>\n",
       "      <td>2015</td>\n",
       "      <td>NaN</td>\n",
       "      <td>NaN</td>\n",
       "      <td>NaN</td>\n",
       "      <td>NaN</td>\n",
       "      <td>NaN</td>\n",
       "      <td>NaN</td>\n",
       "      <td>NaN</td>\n",
       "    </tr>\n",
       "    <tr>\n",
       "      <th>128</th>\n",
       "      <td>2</td>\n",
       "      <td>Ed Sheeran</td>\n",
       "      <td>Thinking Out Loud LYRICS</td>\n",
       "      <td>2015</td>\n",
       "      <td>NaN</td>\n",
       "      <td>NaN</td>\n",
       "      <td>NaN</td>\n",
       "      <td>NaN</td>\n",
       "      <td>NaN</td>\n",
       "      <td>NaN</td>\n",
       "      <td>NaN</td>\n",
       "    </tr>\n",
       "    <tr>\n",
       "      <th>129</th>\n",
       "      <td>3</td>\n",
       "      <td>Wiz Khalifa feat. Charlie Puth</td>\n",
       "      <td>See You Again LYRICS</td>\n",
       "      <td>2015</td>\n",
       "      <td>NaN</td>\n",
       "      <td>NaN</td>\n",
       "      <td>NaN</td>\n",
       "      <td>NaN</td>\n",
       "      <td>NaN</td>\n",
       "      <td>NaN</td>\n",
       "      <td>NaN</td>\n",
       "    </tr>\n",
       "    <tr>\n",
       "      <th>...</th>\n",
       "      <td>...</td>\n",
       "      <td>...</td>\n",
       "      <td>...</td>\n",
       "      <td>...</td>\n",
       "      <td>...</td>\n",
       "      <td>...</td>\n",
       "      <td>...</td>\n",
       "      <td>...</td>\n",
       "      <td>...</td>\n",
       "      <td>...</td>\n",
       "      <td>...</td>\n",
       "    </tr>\n",
       "    <tr>\n",
       "      <th>366</th>\n",
       "      <td>77</td>\n",
       "      <td>Bad</td>\n",
       "      <td>Wale Featuring Tiara Thomas</td>\n",
       "      <td>2013</td>\n",
       "      <td>NaN</td>\n",
       "      <td>NaN</td>\n",
       "      <td>NaN</td>\n",
       "      <td>NaN</td>\n",
       "      <td>NaN</td>\n",
       "      <td>NaN</td>\n",
       "      <td>NaN</td>\n",
       "    </tr>\n",
       "    <tr>\n",
       "      <th>367</th>\n",
       "      <td>79</td>\n",
       "      <td>Crooked Smile</td>\n",
       "      <td>J Cole Featuring TLC</td>\n",
       "      <td>2013</td>\n",
       "      <td>NaN</td>\n",
       "      <td>NaN</td>\n",
       "      <td>NaN</td>\n",
       "      <td>NaN</td>\n",
       "      <td>NaN</td>\n",
       "      <td>NaN</td>\n",
       "      <td>NaN</td>\n",
       "    </tr>\n",
       "    <tr>\n",
       "      <th>368</th>\n",
       "      <td>81</td>\n",
       "      <td>Bad</td>\n",
       "      <td>Wale Featuring Tiara Thomas Or Rihanna</td>\n",
       "      <td>2013</td>\n",
       "      <td>NaN</td>\n",
       "      <td>NaN</td>\n",
       "      <td>NaN</td>\n",
       "      <td>NaN</td>\n",
       "      <td>NaN</td>\n",
       "      <td>NaN</td>\n",
       "      <td>NaN</td>\n",
       "    </tr>\n",
       "    <tr>\n",
       "      <th>371</th>\n",
       "      <td>90</td>\n",
       "      <td>Gas Pedal</td>\n",
       "      <td>Sage The Gemini Featuring IamSu</td>\n",
       "      <td>2013</td>\n",
       "      <td>NaN</td>\n",
       "      <td>NaN</td>\n",
       "      <td>NaN</td>\n",
       "      <td>NaN</td>\n",
       "      <td>NaN</td>\n",
       "      <td>NaN</td>\n",
       "      <td>NaN</td>\n",
       "    </tr>\n",
       "    <tr>\n",
       "      <th>374</th>\n",
       "      <td>93</td>\n",
       "      <td>Bugatti</td>\n",
       "      <td>Ace Hood Featuring Future &amp; Rick Ross</td>\n",
       "      <td>2013</td>\n",
       "      <td>NaN</td>\n",
       "      <td>NaN</td>\n",
       "      <td>NaN</td>\n",
       "      <td>NaN</td>\n",
       "      <td>NaN</td>\n",
       "      <td>NaN</td>\n",
       "      <td>NaN</td>\n",
       "    </tr>\n",
       "  </tbody>\n",
       "</table>\n",
       "<p>157 rows × 11 columns</p>\n",
       "</div>"
      ],
      "text/plain": [
       "    rank                          artist  \\\n",
       "25    53          Lil’ Mo feat. Fabolous   \n",
       "85    41         T-Pain feat. Mike Jones   \n",
       "127    1    Mark Ronson feat. Bruno Mars   \n",
       "128    2                      Ed Sheeran   \n",
       "129    3  Wiz Khalifa feat. Charlie Puth   \n",
       "..   ...                             ...   \n",
       "366   77                             Bad   \n",
       "367   79                   Crooked Smile   \n",
       "368   81                             Bad   \n",
       "371   90                       Gas Pedal   \n",
       "374   93                         Bugatti   \n",
       "\n",
       "                                       song  year release_date album_id  \\\n",
       "25                        Superwoman Pt. II  2001          NaN      NaN   \n",
       "85               I’n N Luv (Wit a Stripper)  2006          NaN      NaN   \n",
       "127                     Uptown Funk! LYRICS  2015          NaN      NaN   \n",
       "128                Thinking Out Loud LYRICS  2015          NaN      NaN   \n",
       "129                    See You Again LYRICS  2015          NaN      NaN   \n",
       "..                                      ...   ...          ...      ...   \n",
       "366             Wale Featuring Tiara Thomas  2013          NaN      NaN   \n",
       "367                    J Cole Featuring TLC  2013          NaN      NaN   \n",
       "368  Wale Featuring Tiara Thomas Or Rihanna  2013          NaN      NaN   \n",
       "371         Sage The Gemini Featuring IamSu  2013          NaN      NaN   \n",
       "374   Ace Hood Featuring Future & Rick Ross  2013          NaN      NaN   \n",
       "\n",
       "    album_name album_type artists track_name track_id  \n",
       "25         NaN        NaN     NaN        NaN      NaN  \n",
       "85         NaN        NaN     NaN        NaN      NaN  \n",
       "127        NaN        NaN     NaN        NaN      NaN  \n",
       "128        NaN        NaN     NaN        NaN      NaN  \n",
       "129        NaN        NaN     NaN        NaN      NaN  \n",
       "..         ...        ...     ...        ...      ...  \n",
       "366        NaN        NaN     NaN        NaN      NaN  \n",
       "367        NaN        NaN     NaN        NaN      NaN  \n",
       "368        NaN        NaN     NaN        NaN      NaN  \n",
       "371        NaN        NaN     NaN        NaN      NaN  \n",
       "374        NaN        NaN     NaN        NaN      NaN  \n",
       "\n",
       "[157 rows x 11 columns]"
      ]
     },
     "execution_count": 210,
     "metadata": {},
     "output_type": "execute_result"
    }
   ],
   "source": [
    "data[data['track_id'].isna()==True]"
   ]
  },
  {
   "cell_type": "code",
   "execution_count": null,
   "metadata": {},
   "outputs": [],
   "source": [
    "df.applymap()"
   ]
  },
  {
   "cell_type": "code",
   "execution_count": 3,
   "metadata": {},
   "outputs": [],
   "source": [
    "me = sp.user(\"124718095\")"
   ]
  },
  {
   "cell_type": "code",
   "execution_count": 4,
   "metadata": {},
   "outputs": [],
   "source": [
    "my_playlists = sp.user_playlists(me['id'])"
   ]
  },
  {
   "cell_type": "code",
   "execution_count": 5,
   "metadata": {},
   "outputs": [],
   "source": [
    "my_playlist_ids = {x['name']:x['id'] for x in my_playlists['items']}"
   ]
  },
  {
   "cell_type": "code",
   "execution_count": 6,
   "metadata": {},
   "outputs": [
    {
     "data": {
      "text/plain": [
       "'37i9dQZF1Ethx9AjQdjLEb'"
      ]
     },
     "execution_count": 6,
     "metadata": {},
     "output_type": "execute_result"
    }
   ],
   "source": [
    "my_playlist_ids['Your Top Songs 2019']"
   ]
  },
  {
   "cell_type": "code",
   "execution_count": 7,
   "metadata": {},
   "outputs": [],
   "source": [
    "top_songs_2019 = sp.playlist_tracks(my_playlist_ids['Your Top Songs 2019'])"
   ]
  },
  {
   "cell_type": "code",
   "execution_count": 8,
   "metadata": {},
   "outputs": [],
   "source": [
    "top_songs_2019_ids = {x['track']['name']:x['track']['id'] for x in top_songs_2019['items']}"
   ]
  },
  {
   "cell_type": "markdown",
   "metadata": {},
   "source": [
    "## track features "
   ]
  },
  {
   "cell_type": "code",
   "execution_count": 9,
   "metadata": {},
   "outputs": [
    {
     "data": {
      "text/plain": [
       "[{'external_urls': {'spotify': 'https://open.spotify.com/artist/0xPoVNPnxIIUS1vrxAYV00'},\n",
       "  'followers': {'href': None, 'total': 19238},\n",
       "  'genres': ['deep new americana', 'indie pop'],\n",
       "  'href': 'https://api.spotify.com/v1/artists/0xPoVNPnxIIUS1vrxAYV00',\n",
       "  'id': '0xPoVNPnxIIUS1vrxAYV00',\n",
       "  'images': [{'height': 640,\n",
       "    'url': 'https://i.scdn.co/image/e628ab91e4ffacc38932adef0b72c1b8c6eae66a',\n",
       "    'width': 640},\n",
       "   {'height': 320,\n",
       "    'url': 'https://i.scdn.co/image/3dcac05d36e7f2290d912e3bbaf2760b47bc985e',\n",
       "    'width': 320},\n",
       "   {'height': 160,\n",
       "    'url': 'https://i.scdn.co/image/2be8f2fe4c36b9f5aac339e4ed6b9a91b49cf255',\n",
       "    'width': 160}],\n",
       "  'name': 'Del Water Gap',\n",
       "  'popularity': 50,\n",
       "  'type': 'artist',\n",
       "  'uri': 'spotify:artist:0xPoVNPnxIIUS1vrxAYV00'}]"
      ]
     },
     "execution_count": 9,
     "metadata": {},
     "output_type": "execute_result"
    }
   ],
   "source": [
    "q = sp.search(q='Del Water Gap',type='artist')['artists']['items']\n",
    "q"
   ]
  },
  {
   "cell_type": "code",
   "execution_count": 10,
   "metadata": {},
   "outputs": [],
   "source": [
    "dwg_id = q[0]['id']"
   ]
  },
  {
   "cell_type": "code",
   "execution_count": 11,
   "metadata": {},
   "outputs": [],
   "source": [
    "def get_artistTracks(artist_name=None,artist_id=None):\n",
    "    if artist_name:\n",
    "        artist = sp.search(q=artist_name,type='artist')['artists']['items'][0]\n",
    "        artist_id = artist['id']\n",
    "    albums = sp.artist_albums(artist['id'])['items']\n",
    "    \n",
    "    album_ids = [ \n",
    "        {'id':x['id'],'album_name':x['name']} for x in albums \n",
    "    ]\n",
    "    \n",
    "    album_tracks = [ sp.album_tracks(x['id']) for x in album_ids ]\n",
    "    \n",
    "    # item for sublist in list for item in sublist \n",
    "    tracks = [ \n",
    "        {\n",
    "            'name':item['name'],\n",
    "            'id':item['id'],\n",
    "            'artists':[x['name'] for x in item['artists']]\n",
    "        }\n",
    "        for album in album_tracks \n",
    "        for item in album['items']\n",
    "        if artist['name'] in [ x['name'] for x in item['artists'] ]\n",
    "    ]\n",
    "    \n",
    "    return tracks"
   ]
  },
  {
   "cell_type": "code",
   "execution_count": 12,
   "metadata": {},
   "outputs": [],
   "source": [
    "del_water_tracks = get_artistTracks(artist_name='Del Water Gap')"
   ]
  },
  {
   "cell_type": "code",
   "execution_count": 13,
   "metadata": {},
   "outputs": [
    {
     "data": {
      "text/plain": [
       "[{'name': \"Don't Say Nothing - live in Fresno\",\n",
       "  'id': '4iCAH9P6e4ilKhc60qcRJv',\n",
       "  'artists': ['Del Water Gap']},\n",
       " {'name': 'Theory of Emotion - live in Fresno',\n",
       "  'id': '1jdcKxb3I3rzQUYZyekCgr',\n",
       "  'artists': ['Del Water Gap']},\n",
       " {'name': 'Chastain - live in Fresno',\n",
       "  'id': '519l7sJ9H0vshmI2X4rgQL',\n",
       "  'artists': ['Del Water Gap']},\n",
       " {'name': 'To Philly - live in Fresno',\n",
       "  'id': '3IAcmRXOPwmDLht8UDDrYp',\n",
       "  'artists': ['Del Water Gap']},\n",
       " {'name': 'Laid Down My Arms - live in Fresno',\n",
       "  'id': '5sYmFFLcruE6zBaO55Cl7d',\n",
       "  'artists': ['Del Water Gap']}]"
      ]
     },
     "execution_count": 13,
     "metadata": {},
     "output_type": "execute_result"
    }
   ],
   "source": [
    "del_water_tracks[:5]"
   ]
  },
  {
   "cell_type": "code",
   "execution_count": 14,
   "metadata": {},
   "outputs": [],
   "source": [
    "records = []\n",
    "for track in del_water_tracks:\n",
    "    audio_features = sp.audio_features(track['id'])[0]\n",
    "    audio_features['artists'] = track['artists']\n",
    "    audio_features['name'] = track['name']\n",
    "    records.append(audio_features)"
   ]
  },
  {
   "cell_type": "code",
   "execution_count": 15,
   "metadata": {},
   "outputs": [],
   "source": [
    "df = pd.DataFrame.from_records(records)"
   ]
  },
  {
   "cell_type": "code",
   "execution_count": 16,
   "metadata": {},
   "outputs": [],
   "source": [
    "df.drop(columns=['track_href','analysis_url','type','uri'],inplace=True)"
   ]
  },
  {
   "cell_type": "code",
   "execution_count": 17,
   "metadata": {},
   "outputs": [],
   "source": [
    "df['artists'] = df.apply(lambda x : \"\".join([artist+', ' for artist in x['artists']]).strip(', '),axis=1)"
   ]
  },
  {
   "cell_type": "code",
   "execution_count": 18,
   "metadata": {},
   "outputs": [],
   "source": [
    "trs = sp.tracks(df['id'].to_list())"
   ]
  },
  {
   "cell_type": "code",
   "execution_count": 19,
   "metadata": {},
   "outputs": [],
   "source": [
    "#df['popularity'] = df['id'].map({x['id']:x['popularity'] for x in trs['tracks']})"
   ]
  },
  {
   "cell_type": "code",
   "execution_count": 20,
   "metadata": {},
   "outputs": [],
   "source": [
    "df['release_date'] = df['id'].map({x['id']:x['album']['release_date'] for x in trs['tracks']})"
   ]
  },
  {
   "cell_type": "code",
   "execution_count": 21,
   "metadata": {},
   "outputs": [],
   "source": [
    "df.sort_values(by='release_date',axis=0,inplace=True)"
   ]
  },
  {
   "cell_type": "code",
   "execution_count": 22,
   "metadata": {},
   "outputs": [],
   "source": [
    "df.drop_duplicates([x for x in df.columns if x not in ['release_date','name','id']],keep='first',inplace=True)"
   ]
  },
  {
   "cell_type": "code",
   "execution_count": 23,
   "metadata": {},
   "outputs": [],
   "source": [
    "#df.drop(index=19,inplace=True)\n",
    "df.reset_index(inplace=True,drop=True)"
   ]
  },
  {
   "cell_type": "code",
   "execution_count": 24,
   "metadata": {},
   "outputs": [
    {
     "data": {
      "text/plain": [
       "0                              In the Yard\n",
       "1                  Be My Own (Bonus Track)\n",
       "2            I Am Drunk, And She Is Insane\n",
       "3                                 Homeless\n",
       "4              Lost My Cat / Put in a Cage\n",
       "5                           Rockman's Pier\n",
       "6                            Still in Love\n",
       "7                                Lamplight\n",
       "8                             Cut the Rope\n",
       "9                                  Vanessa\n",
       "10                               High Tops\n",
       "11                   Don't Read the Mirror\n",
       "12                          Deirdre, Pt. I\n",
       "13                           Let's Pretend\n",
       "14                Love Song for Lady Earth\n",
       "15                    High Tops (Stripped)\n",
       "16                       Laid Down My Arms\n",
       "17                                Chastain\n",
       "18                       Theory of Emotion\n",
       "19                       Laid Down My Arms\n",
       "20                               To Philly\n",
       "21                                Chastain\n",
       "22                       Don't Say Nothing\n",
       "23                            Don't Let Me\n",
       "24                               To Philly\n",
       "25                       Don't Say Nothing\n",
       "26                            Don't Let Me\n",
       "27                       Theory Of Emotion\n",
       "28         In the Yard - Mahogany Sessions\n",
       "29              To Philly - live in Fresno\n",
       "30    Never Meant to Call - live in Fresno\n",
       "31           Don't Let Me - live in Fresno\n",
       "32      Laid Down My Arms - live in Fresno\n",
       "33               Chastain - live in Fresno\n",
       "34      Theory of Emotion - live in Fresno\n",
       "35      Don't Say Nothing - live in Fresno\n",
       "36                                 My Body\n",
       "Name: name, dtype: object"
      ]
     },
     "execution_count": 24,
     "metadata": {},
     "output_type": "execute_result"
    }
   ],
   "source": [
    "df['name']"
   ]
  },
  {
   "cell_type": "code",
   "execution_count": 25,
   "metadata": {},
   "outputs": [],
   "source": [
    "with_charlie = [\n",
    "    'I Am Drunk, And She Is Insane', 'Lost My Cat / Put in a Cage', \n",
    "    \"Rockman's Pier\", 'Still in Love', 'Lamplight', 'Cut the Rope', \n",
    "    'Vanessa', 'High Tops', 'Love Song for Lady Earth', \"Let's Pretend\",\n",
    "    'Deirdre, Pt. I', \"Don't Read the Mirror\", 'Laid Down My Arms','Theory of Emotion'\n",
    "]"
   ]
  },
  {
   "cell_type": "code",
   "execution_count": 26,
   "metadata": {},
   "outputs": [],
   "source": [
    "not_charlie = df[~df['name'].isin(with_charlie)]['valence']"
   ]
  },
  {
   "cell_type": "code",
   "execution_count": 27,
   "metadata": {},
   "outputs": [],
   "source": [
    "charlie = df[df['name'].isin(with_charlie)]['valence']"
   ]
  },
  {
   "cell_type": "code",
   "execution_count": 28,
   "metadata": {},
   "outputs": [],
   "source": [
    "import matplotlib.pyplot as plt\n",
    "%matplotlib inline"
   ]
  },
  {
   "cell_type": "code",
   "execution_count": 29,
   "metadata": {},
   "outputs": [
    {
     "data": {
      "image/png": "[encoded data removed]",
      "text/plain": [
       "<Figure size 432x288 with 1 Axes>"
      ]
     },
     "metadata": {
      "needs_background": "light"
     },
     "output_type": "display_data"
    }
   ],
   "source": [
    "fig, ax = plt.subplots()\n",
    "ax.boxplot([charlie,not_charlie])\n",
    "\n",
    "plt.show()"
   ]
  },
  {
   "cell_type": "markdown",
   "metadata": {},
   "source": [
    "## by playlist"
   ]
  },
  {
   "cell_type": "code",
   "execution_count": 31,
   "metadata": {},
   "outputs": [],
   "source": [
    "sam_playlists = sp.user_playlists(1250134147)"
   ]
  },
  {
   "cell_type": "code",
   "execution_count": 32,
   "metadata": {},
   "outputs": [],
   "source": [
    "sam_playlist_ids = [\n",
    "    {'playlist_id':x['id'],'playlist_name':x['name']} for x in sam_playlists['items']]"
   ]
  },
  {
   "cell_type": "code",
   "execution_count": 33,
   "metadata": {},
   "outputs": [
    {
     "data": {
      "text/plain": [
       "[{'playlist_id': '0ti4xxabrASrUfndyMAM84', 'playlist_name': 'the end'},\n",
       " {'playlist_id': '4onXnKlx8zqSBFMoegjnTX',\n",
       "  'playlist_name': 'wfh: pandemic edition'},\n",
       " {'playlist_id': '5pSaH0lwwMZQv4icmvLODy', 'playlist_name': 'working'},\n",
       " {'playlist_id': '5x3kN5QBau7m55CDq31jxY', 'playlist_name': 'hbd, dave'},\n",
       " {'playlist_id': '4yhHSqzDCxttvBEfMBOODi',\n",
       "  'playlist_name': 'unpretentious resort wave'},\n",
       " {'playlist_id': '6jmzGHmwwueGgqw376qJku',\n",
       "  'playlist_name': 'all killer no filler'},\n",
       " {'playlist_id': '2VBPgWKiFM2N5lXEFYp7sk',\n",
       "  'playlist_name': 'The Wry Young Women Writing Sad, Buoyant, Beautiful Songs'}]"
      ]
     },
     "execution_count": 33,
     "metadata": {},
     "output_type": "execute_result"
    }
   ],
   "source": [
    "sam_playlist_ids"
   ]
  },
  {
   "cell_type": "code",
   "execution_count": 34,
   "metadata": {},
   "outputs": [],
   "source": [
    "import time"
   ]
  },
  {
   "cell_type": "code",
   "execution_count": 36,
   "metadata": {},
   "outputs": [],
   "source": [
    "records = []\n",
    "for playlist in sam_playlist_ids:\n",
    "    playlist_items = sp.playlist_tracks(playlist['playlist_id'])['items']\n",
    "    track_ids = [item['track']['id'] for item in playlist_items]\n",
    "    \n",
    "    audio_features = [sp.audio_features(x)[0] for x in track_ids]\n",
    "    for track in audio_features:\n",
    "        track['playlist_name']=playlist['playlist_name']\n",
    "    records.extend(audio_features)\n",
    "    time.sleep(5)"
   ]
  },
  {
   "cell_type": "code",
   "execution_count": 37,
   "metadata": {},
   "outputs": [],
   "source": [
    "playlist_df = pd.DataFrame.from_records(records)"
   ]
  },
  {
   "cell_type": "code",
   "execution_count": 38,
   "metadata": {},
   "outputs": [
    {
     "data": {
      "text/html": [
       "<div>\n",
       "<style scoped>\n",
       "    .dataframe tbody tr th:only-of-type {\n",
       "        vertical-align: middle;\n",
       "    }\n",
       "\n",
       "    .dataframe tbody tr th {\n",
       "        vertical-align: top;\n",
       "    }\n",
       "\n",
       "    .dataframe thead th {\n",
       "        text-align: right;\n",
       "    }\n",
       "</style>\n",
       "<table border=\"1\" class=\"dataframe\">\n",
       "  <thead>\n",
       "    <tr style=\"text-align: right;\">\n",
       "      <th></th>\n",
       "      <th>danceability</th>\n",
       "      <th>energy</th>\n",
       "      <th>key</th>\n",
       "      <th>loudness</th>\n",
       "      <th>mode</th>\n",
       "      <th>speechiness</th>\n",
       "      <th>acousticness</th>\n",
       "      <th>instrumentalness</th>\n",
       "      <th>liveness</th>\n",
       "      <th>valence</th>\n",
       "      <th>tempo</th>\n",
       "      <th>type</th>\n",
       "      <th>id</th>\n",
       "      <th>uri</th>\n",
       "      <th>track_href</th>\n",
       "      <th>analysis_url</th>\n",
       "      <th>duration_ms</th>\n",
       "      <th>time_signature</th>\n",
       "      <th>playlist_name</th>\n",
       "    </tr>\n",
       "  </thead>\n",
       "  <tbody>\n",
       "    <tr>\n",
       "      <th>0</th>\n",
       "      <td>0.459</td>\n",
       "      <td>0.617</td>\n",
       "      <td>8</td>\n",
       "      <td>-5.810</td>\n",
       "      <td>1</td>\n",
       "      <td>0.0353</td>\n",
       "      <td>0.000056</td>\n",
       "      <td>0.354000</td>\n",
       "      <td>0.0443</td>\n",
       "      <td>0.522</td>\n",
       "      <td>117.959</td>\n",
       "      <td>audio_features</td>\n",
       "      <td>1qoqz2LrkRl2A24OSdp6wI</td>\n",
       "      <td>spotify:track:1qoqz2LrkRl2A24OSdp6wI</td>\n",
       "      <td>https://api.spotify.com/v1/tracks/1qoqz2LrkRl2...</td>\n",
       "      <td>https://api.spotify.com/v1/audio-analysis/1qoq...</td>\n",
       "      <td>208967</td>\n",
       "      <td>4</td>\n",
       "      <td>the end</td>\n",
       "    </tr>\n",
       "    <tr>\n",
       "      <th>1</th>\n",
       "      <td>0.381</td>\n",
       "      <td>0.436</td>\n",
       "      <td>5</td>\n",
       "      <td>-6.731</td>\n",
       "      <td>1</td>\n",
       "      <td>0.0329</td>\n",
       "      <td>0.011800</td>\n",
       "      <td>0.000000</td>\n",
       "      <td>0.1330</td>\n",
       "      <td>0.453</td>\n",
       "      <td>183.923</td>\n",
       "      <td>audio_features</td>\n",
       "      <td>2guw9QqCoBNGlJTPQBAAHk</td>\n",
       "      <td>spotify:track:2guw9QqCoBNGlJTPQBAAHk</td>\n",
       "      <td>https://api.spotify.com/v1/tracks/2guw9QqCoBNG...</td>\n",
       "      <td>https://api.spotify.com/v1/audio-analysis/2guw...</td>\n",
       "      <td>149077</td>\n",
       "      <td>3</td>\n",
       "      <td>the end</td>\n",
       "    </tr>\n",
       "    <tr>\n",
       "      <th>2</th>\n",
       "      <td>0.468</td>\n",
       "      <td>0.635</td>\n",
       "      <td>8</td>\n",
       "      <td>-7.079</td>\n",
       "      <td>1</td>\n",
       "      <td>0.0273</td>\n",
       "      <td>0.000202</td>\n",
       "      <td>0.446000</td>\n",
       "      <td>0.1100</td>\n",
       "      <td>0.249</td>\n",
       "      <td>103.946</td>\n",
       "      <td>audio_features</td>\n",
       "      <td>6OHVsfC65IdO9MM8oQPthL</td>\n",
       "      <td>spotify:track:6OHVsfC65IdO9MM8oQPthL</td>\n",
       "      <td>https://api.spotify.com/v1/tracks/6OHVsfC65IdO...</td>\n",
       "      <td>https://api.spotify.com/v1/audio-analysis/6OHV...</td>\n",
       "      <td>159940</td>\n",
       "      <td>4</td>\n",
       "      <td>the end</td>\n",
       "    </tr>\n",
       "    <tr>\n",
       "      <th>3</th>\n",
       "      <td>0.262</td>\n",
       "      <td>0.651</td>\n",
       "      <td>9</td>\n",
       "      <td>-8.413</td>\n",
       "      <td>1</td>\n",
       "      <td>0.0322</td>\n",
       "      <td>0.000070</td>\n",
       "      <td>0.020200</td>\n",
       "      <td>0.0883</td>\n",
       "      <td>0.175</td>\n",
       "      <td>100.463</td>\n",
       "      <td>audio_features</td>\n",
       "      <td>2Lk6WptvmyH5SN73Pi4vZx</td>\n",
       "      <td>spotify:track:2Lk6WptvmyH5SN73Pi4vZx</td>\n",
       "      <td>https://api.spotify.com/v1/tracks/2Lk6WptvmyH5...</td>\n",
       "      <td>https://api.spotify.com/v1/audio-analysis/2Lk6...</td>\n",
       "      <td>237823</td>\n",
       "      <td>4</td>\n",
       "      <td>the end</td>\n",
       "    </tr>\n",
       "    <tr>\n",
       "      <th>4</th>\n",
       "      <td>0.377</td>\n",
       "      <td>0.499</td>\n",
       "      <td>9</td>\n",
       "      <td>-7.228</td>\n",
       "      <td>1</td>\n",
       "      <td>0.0323</td>\n",
       "      <td>0.002350</td>\n",
       "      <td>0.007680</td>\n",
       "      <td>0.1180</td>\n",
       "      <td>0.412</td>\n",
       "      <td>173.595</td>\n",
       "      <td>audio_features</td>\n",
       "      <td>52bYAaDo17L4JNdkBZ1rIw</td>\n",
       "      <td>spotify:track:52bYAaDo17L4JNdkBZ1rIw</td>\n",
       "      <td>https://api.spotify.com/v1/tracks/52bYAaDo17L4...</td>\n",
       "      <td>https://api.spotify.com/v1/audio-analysis/52bY...</td>\n",
       "      <td>206672</td>\n",
       "      <td>4</td>\n",
       "      <td>the end</td>\n",
       "    </tr>\n",
       "    <tr>\n",
       "      <th>...</th>\n",
       "      <td>...</td>\n",
       "      <td>...</td>\n",
       "      <td>...</td>\n",
       "      <td>...</td>\n",
       "      <td>...</td>\n",
       "      <td>...</td>\n",
       "      <td>...</td>\n",
       "      <td>...</td>\n",
       "      <td>...</td>\n",
       "      <td>...</td>\n",
       "      <td>...</td>\n",
       "      <td>...</td>\n",
       "      <td>...</td>\n",
       "      <td>...</td>\n",
       "      <td>...</td>\n",
       "      <td>...</td>\n",
       "      <td>...</td>\n",
       "      <td>...</td>\n",
       "      <td>...</td>\n",
       "    </tr>\n",
       "    <tr>\n",
       "      <th>232</th>\n",
       "      <td>0.181</td>\n",
       "      <td>0.653</td>\n",
       "      <td>5</td>\n",
       "      <td>-5.102</td>\n",
       "      <td>1</td>\n",
       "      <td>0.0380</td>\n",
       "      <td>0.366000</td>\n",
       "      <td>0.000085</td>\n",
       "      <td>0.1600</td>\n",
       "      <td>0.371</td>\n",
       "      <td>204.164</td>\n",
       "      <td>audio_features</td>\n",
       "      <td>3Nb8Fqfi1N01eAASK9jduB</td>\n",
       "      <td>spotify:track:3Nb8Fqfi1N01eAASK9jduB</td>\n",
       "      <td>https://api.spotify.com/v1/tracks/3Nb8Fqfi1N01...</td>\n",
       "      <td>https://api.spotify.com/v1/audio-analysis/3Nb8...</td>\n",
       "      <td>161600</td>\n",
       "      <td>4</td>\n",
       "      <td>The Wry Young Women Writing Sad, Buoyant, Beau...</td>\n",
       "    </tr>\n",
       "    <tr>\n",
       "      <th>233</th>\n",
       "      <td>0.459</td>\n",
       "      <td>0.824</td>\n",
       "      <td>5</td>\n",
       "      <td>-5.296</td>\n",
       "      <td>1</td>\n",
       "      <td>0.0399</td>\n",
       "      <td>0.007650</td>\n",
       "      <td>0.003540</td>\n",
       "      <td>0.1670</td>\n",
       "      <td>0.355</td>\n",
       "      <td>126.352</td>\n",
       "      <td>audio_features</td>\n",
       "      <td>5Ap9hgpKbDugMg7dQmtKgm</td>\n",
       "      <td>spotify:track:5Ap9hgpKbDugMg7dQmtKgm</td>\n",
       "      <td>https://api.spotify.com/v1/tracks/5Ap9hgpKbDug...</td>\n",
       "      <td>https://api.spotify.com/v1/audio-analysis/5Ap9...</td>\n",
       "      <td>180800</td>\n",
       "      <td>4</td>\n",
       "      <td>The Wry Young Women Writing Sad, Buoyant, Beau...</td>\n",
       "    </tr>\n",
       "    <tr>\n",
       "      <th>234</th>\n",
       "      <td>0.538</td>\n",
       "      <td>0.275</td>\n",
       "      <td>2</td>\n",
       "      <td>-8.015</td>\n",
       "      <td>1</td>\n",
       "      <td>0.0278</td>\n",
       "      <td>0.661000</td>\n",
       "      <td>0.000033</td>\n",
       "      <td>0.1450</td>\n",
       "      <td>0.186</td>\n",
       "      <td>97.548</td>\n",
       "      <td>audio_features</td>\n",
       "      <td>64sDUuHnNZgo5cnhVq9lIg</td>\n",
       "      <td>spotify:track:64sDUuHnNZgo5cnhVq9lIg</td>\n",
       "      <td>https://api.spotify.com/v1/tracks/64sDUuHnNZgo...</td>\n",
       "      <td>https://api.spotify.com/v1/audio-analysis/64sD...</td>\n",
       "      <td>152267</td>\n",
       "      <td>4</td>\n",
       "      <td>The Wry Young Women Writing Sad, Buoyant, Beau...</td>\n",
       "    </tr>\n",
       "    <tr>\n",
       "      <th>235</th>\n",
       "      <td>0.279</td>\n",
       "      <td>0.777</td>\n",
       "      <td>6</td>\n",
       "      <td>-3.922</td>\n",
       "      <td>1</td>\n",
       "      <td>0.0462</td>\n",
       "      <td>0.183000</td>\n",
       "      <td>0.761000</td>\n",
       "      <td>0.0874</td>\n",
       "      <td>0.605</td>\n",
       "      <td>118.977</td>\n",
       "      <td>audio_features</td>\n",
       "      <td>3kLsqsxZ9DDwmllHisvK92</td>\n",
       "      <td>spotify:track:3kLsqsxZ9DDwmllHisvK92</td>\n",
       "      <td>https://api.spotify.com/v1/tracks/3kLsqsxZ9DDw...</td>\n",
       "      <td>https://api.spotify.com/v1/audio-analysis/3kLs...</td>\n",
       "      <td>218400</td>\n",
       "      <td>4</td>\n",
       "      <td>The Wry Young Women Writing Sad, Buoyant, Beau...</td>\n",
       "    </tr>\n",
       "    <tr>\n",
       "      <th>236</th>\n",
       "      <td>0.504</td>\n",
       "      <td>0.333</td>\n",
       "      <td>7</td>\n",
       "      <td>-7.598</td>\n",
       "      <td>1</td>\n",
       "      <td>0.0260</td>\n",
       "      <td>0.753000</td>\n",
       "      <td>0.002270</td>\n",
       "      <td>0.0965</td>\n",
       "      <td>0.243</td>\n",
       "      <td>95.383</td>\n",
       "      <td>audio_features</td>\n",
       "      <td>2Ma9esEz9iEKGqLKkyH6L2</td>\n",
       "      <td>spotify:track:2Ma9esEz9iEKGqLKkyH6L2</td>\n",
       "      <td>https://api.spotify.com/v1/tracks/2Ma9esEz9iEK...</td>\n",
       "      <td>https://api.spotify.com/v1/audio-analysis/2Ma9...</td>\n",
       "      <td>227400</td>\n",
       "      <td>4</td>\n",
       "      <td>The Wry Young Women Writing Sad, Buoyant, Beau...</td>\n",
       "    </tr>\n",
       "  </tbody>\n",
       "</table>\n",
       "<p>237 rows × 19 columns</p>\n",
       "</div>"
      ],
      "text/plain": [
       "     danceability  energy  key  loudness  mode  speechiness  acousticness  \\\n",
       "0           0.459   0.617    8    -5.810     1       0.0353      0.000056   \n",
       "1           0.381   0.436    5    -6.731     1       0.0329      0.011800   \n",
       "2           0.468   0.635    8    -7.079     1       0.0273      0.000202   \n",
       "3           0.262   0.651    9    -8.413     1       0.0322      0.000070   \n",
       "4           0.377   0.499    9    -7.228     1       0.0323      0.002350   \n",
       "..            ...     ...  ...       ...   ...          ...           ...   \n",
       "232         0.181   0.653    5    -5.102     1       0.0380      0.366000   \n",
       "233         0.459   0.824    5    -5.296     1       0.0399      0.007650   \n",
       "234         0.538   0.275    2    -8.015     1       0.0278      0.661000   \n",
       "235         0.279   0.777    6    -3.922     1       0.0462      0.183000   \n",
       "236         0.504   0.333    7    -7.598     1       0.0260      0.753000   \n",
       "\n",
       "     instrumentalness  liveness  valence    tempo            type  \\\n",
       "0            0.354000    0.0443    0.522  117.959  audio_features   \n",
       "1            0.000000    0.1330    0.453  183.923  audio_features   \n",
       "2            0.446000    0.1100    0.249  103.946  audio_features   \n",
       "3            0.020200    0.0883    0.175  100.463  audio_features   \n",
       "4            0.007680    0.1180    0.412  173.595  audio_features   \n",
       "..                ...       ...      ...      ...             ...   \n",
       "232          0.000085    0.1600    0.371  204.164  audio_features   \n",
       "233          0.003540    0.1670    0.355  126.352  audio_features   \n",
       "234          0.000033    0.1450    0.186   97.548  audio_features   \n",
       "235          0.761000    0.0874    0.605  118.977  audio_features   \n",
       "236          0.002270    0.0965    0.243   95.383  audio_features   \n",
       "\n",
       "                         id                                   uri  \\\n",
       "0    1qoqz2LrkRl2A24OSdp6wI  spotify:track:1qoqz2LrkRl2A24OSdp6wI   \n",
       "1    2guw9QqCoBNGlJTPQBAAHk  spotify:track:2guw9QqCoBNGlJTPQBAAHk   \n",
       "2    6OHVsfC65IdO9MM8oQPthL  spotify:track:6OHVsfC65IdO9MM8oQPthL   \n",
       "3    2Lk6WptvmyH5SN73Pi4vZx  spotify:track:2Lk6WptvmyH5SN73Pi4vZx   \n",
       "4    52bYAaDo17L4JNdkBZ1rIw  spotify:track:52bYAaDo17L4JNdkBZ1rIw   \n",
       "..                      ...                                   ...   \n",
       "232  3Nb8Fqfi1N01eAASK9jduB  spotify:track:3Nb8Fqfi1N01eAASK9jduB   \n",
       "233  5Ap9hgpKbDugMg7dQmtKgm  spotify:track:5Ap9hgpKbDugMg7dQmtKgm   \n",
       "234  64sDUuHnNZgo5cnhVq9lIg  spotify:track:64sDUuHnNZgo5cnhVq9lIg   \n",
       "235  3kLsqsxZ9DDwmllHisvK92  spotify:track:3kLsqsxZ9DDwmllHisvK92   \n",
       "236  2Ma9esEz9iEKGqLKkyH6L2  spotify:track:2Ma9esEz9iEKGqLKkyH6L2   \n",
       "\n",
       "                                            track_href  \\\n",
       "0    https://api.spotify.com/v1/tracks/1qoqz2LrkRl2...   \n",
       "1    https://api.spotify.com/v1/tracks/2guw9QqCoBNG...   \n",
       "2    https://api.spotify.com/v1/tracks/6OHVsfC65IdO...   \n",
       "3    https://api.spotify.com/v1/tracks/2Lk6WptvmyH5...   \n",
       "4    https://api.spotify.com/v1/tracks/52bYAaDo17L4...   \n",
       "..                                                 ...   \n",
       "232  https://api.spotify.com/v1/tracks/3Nb8Fqfi1N01...   \n",
       "233  https://api.spotify.com/v1/tracks/5Ap9hgpKbDug...   \n",
       "234  https://api.spotify.com/v1/tracks/64sDUuHnNZgo...   \n",
       "235  https://api.spotify.com/v1/tracks/3kLsqsxZ9DDw...   \n",
       "236  https://api.spotify.com/v1/tracks/2Ma9esEz9iEK...   \n",
       "\n",
       "                                          analysis_url  duration_ms  \\\n",
       "0    https://api.spotify.com/v1/audio-analysis/1qoq...       208967   \n",
       "1    https://api.spotify.com/v1/audio-analysis/2guw...       149077   \n",
       "2    https://api.spotify.com/v1/audio-analysis/6OHV...       159940   \n",
       "3    https://api.spotify.com/v1/audio-analysis/2Lk6...       237823   \n",
       "4    https://api.spotify.com/v1/audio-analysis/52bY...       206672   \n",
       "..                                                 ...          ...   \n",
       "232  https://api.spotify.com/v1/audio-analysis/3Nb8...       161600   \n",
       "233  https://api.spotify.com/v1/audio-analysis/5Ap9...       180800   \n",
       "234  https://api.spotify.com/v1/audio-analysis/64sD...       152267   \n",
       "235  https://api.spotify.com/v1/audio-analysis/3kLs...       218400   \n",
       "236  https://api.spotify.com/v1/audio-analysis/2Ma9...       227400   \n",
       "\n",
       "     time_signature                                      playlist_name  \n",
       "0                 4                                            the end  \n",
       "1                 3                                            the end  \n",
       "2                 4                                            the end  \n",
       "3                 4                                            the end  \n",
       "4                 4                                            the end  \n",
       "..              ...                                                ...  \n",
       "232               4  The Wry Young Women Writing Sad, Buoyant, Beau...  \n",
       "233               4  The Wry Young Women Writing Sad, Buoyant, Beau...  \n",
       "234               4  The Wry Young Women Writing Sad, Buoyant, Beau...  \n",
       "235               4  The Wry Young Women Writing Sad, Buoyant, Beau...  \n",
       "236               4  The Wry Young Women Writing Sad, Buoyant, Beau...  \n",
       "\n",
       "[237 rows x 19 columns]"
      ]
     },
     "execution_count": 38,
     "metadata": {},
     "output_type": "execute_result"
    }
   ],
   "source": [
    "playlist_df"
   ]
  },
  {
   "cell_type": "code",
   "execution_count": 39,
   "metadata": {},
   "outputs": [],
   "source": [
    "def audioFeatures_byArtist(name=None,artist_id=None,track_ids=None,playlist=None):\n",
    "    pass"
   ]
  }
 ],
 "metadata": {
  "kernelspec": {
   "display_name": "Python 3",
   "language": "python",
   "name": "python3"
  },
  "language_info": {
   "codemirror_mode": {
    "name": "ipython",
    "version": 3
   },
   "file_extension": ".py",
   "mimetype": "text/x-python",
   "name": "python",
   "nbconvert_exporter": "python",
   "pygments_lexer": "ipython3",
   "version": "3.7.3"
  }
 },
 "nbformat": 4,
 "nbformat_minor": 4
}
